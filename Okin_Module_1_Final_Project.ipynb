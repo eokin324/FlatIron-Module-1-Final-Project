{
 "cells": [
  {
   "cell_type": "markdown",
   "metadata": {},
   "source": [
    "## Final Project Submission\n",
    "\n",
    "Please fill out:\n",
    "* Student name: Evan Okin\n",
    "* Student pace: Self-paced\n",
    "* Scheduled project review date/time: TBD\n",
    "* Instructor name: Eli Thomas\n",
    "* Blog post URL: TBD"
   ]
  },
  {
   "cell_type": "markdown",
   "metadata": {},
   "source": [
    "<font color='blue'>This is Evan Okin's project for FlatIron Data Bootcamp's Module 1. I explore a data-set which includes variables that could be potential predictors of house prices. My approach is to load in the data, explore the data, clean the data, and analyze relationships between predictors and house prices. The goal is to use a multiple linear regression which will contain several variables that might contribute to house prices. I will iterate several versions of regression in order to remove variables that turn out to be faulty or don't provide significant value for our model - the dataset has many potential variables to explore. After my final iteration, the model output will hopefully be intuitive enough to provide an understanding for how we can utilize this information to our advantage in a business or personal portfolio context. </font>"
   ]
  },
  {
   "cell_type": "markdown",
   "metadata": {},
   "source": [
    "<font color='green'>Import the data.</font>"
   ]
  },
  {
   "cell_type": "code",
   "execution_count": 1,
   "metadata": {},
   "outputs": [],
   "source": [
    "import pandas as pd\n",
    "df=pd.read_csv('kc_house_data.csv')"
   ]
  },
  {
   "cell_type": "markdown",
   "metadata": {},
   "source": [
    "<font color='green'>Display the first several rows of the data to make sure that it loaded in properly.</font>"
   ]
  },
  {
   "cell_type": "code",
   "execution_count": 2,
   "metadata": {},
   "outputs": [
    {
     "data": {
      "text/html": [
       "<div>\n",
       "<style scoped>\n",
       "    .dataframe tbody tr th:only-of-type {\n",
       "        vertical-align: middle;\n",
       "    }\n",
       "\n",
       "    .dataframe tbody tr th {\n",
       "        vertical-align: top;\n",
       "    }\n",
       "\n",
       "    .dataframe thead th {\n",
       "        text-align: right;\n",
       "    }\n",
       "</style>\n",
       "<table border=\"1\" class=\"dataframe\">\n",
       "  <thead>\n",
       "    <tr style=\"text-align: right;\">\n",
       "      <th></th>\n",
       "      <th>id</th>\n",
       "      <th>date</th>\n",
       "      <th>price</th>\n",
       "      <th>bedrooms</th>\n",
       "      <th>bathrooms</th>\n",
       "      <th>sqft_living</th>\n",
       "      <th>sqft_lot</th>\n",
       "      <th>floors</th>\n",
       "      <th>waterfront</th>\n",
       "      <th>view</th>\n",
       "      <th>...</th>\n",
       "      <th>grade</th>\n",
       "      <th>sqft_above</th>\n",
       "      <th>sqft_basement</th>\n",
       "      <th>yr_built</th>\n",
       "      <th>yr_renovated</th>\n",
       "      <th>zipcode</th>\n",
       "      <th>lat</th>\n",
       "      <th>long</th>\n",
       "      <th>sqft_living15</th>\n",
       "      <th>sqft_lot15</th>\n",
       "    </tr>\n",
       "  </thead>\n",
       "  <tbody>\n",
       "    <tr>\n",
       "      <th>0</th>\n",
       "      <td>7129300520</td>\n",
       "      <td>10/13/2014</td>\n",
       "      <td>221900.0</td>\n",
       "      <td>3</td>\n",
       "      <td>1.00</td>\n",
       "      <td>1180</td>\n",
       "      <td>5650</td>\n",
       "      <td>1.0</td>\n",
       "      <td>NaN</td>\n",
       "      <td>0.0</td>\n",
       "      <td>...</td>\n",
       "      <td>7</td>\n",
       "      <td>1180</td>\n",
       "      <td>0.0</td>\n",
       "      <td>1955</td>\n",
       "      <td>0.0</td>\n",
       "      <td>98178</td>\n",
       "      <td>47.5112</td>\n",
       "      <td>-122.257</td>\n",
       "      <td>1340</td>\n",
       "      <td>5650</td>\n",
       "    </tr>\n",
       "    <tr>\n",
       "      <th>1</th>\n",
       "      <td>6414100192</td>\n",
       "      <td>12/9/2014</td>\n",
       "      <td>538000.0</td>\n",
       "      <td>3</td>\n",
       "      <td>2.25</td>\n",
       "      <td>2570</td>\n",
       "      <td>7242</td>\n",
       "      <td>2.0</td>\n",
       "      <td>0.0</td>\n",
       "      <td>0.0</td>\n",
       "      <td>...</td>\n",
       "      <td>7</td>\n",
       "      <td>2170</td>\n",
       "      <td>400.0</td>\n",
       "      <td>1951</td>\n",
       "      <td>1991.0</td>\n",
       "      <td>98125</td>\n",
       "      <td>47.7210</td>\n",
       "      <td>-122.319</td>\n",
       "      <td>1690</td>\n",
       "      <td>7639</td>\n",
       "    </tr>\n",
       "    <tr>\n",
       "      <th>2</th>\n",
       "      <td>5631500400</td>\n",
       "      <td>2/25/2015</td>\n",
       "      <td>180000.0</td>\n",
       "      <td>2</td>\n",
       "      <td>1.00</td>\n",
       "      <td>770</td>\n",
       "      <td>10000</td>\n",
       "      <td>1.0</td>\n",
       "      <td>0.0</td>\n",
       "      <td>0.0</td>\n",
       "      <td>...</td>\n",
       "      <td>6</td>\n",
       "      <td>770</td>\n",
       "      <td>0.0</td>\n",
       "      <td>1933</td>\n",
       "      <td>NaN</td>\n",
       "      <td>98028</td>\n",
       "      <td>47.7379</td>\n",
       "      <td>-122.233</td>\n",
       "      <td>2720</td>\n",
       "      <td>8062</td>\n",
       "    </tr>\n",
       "  </tbody>\n",
       "</table>\n",
       "<p>3 rows × 21 columns</p>\n",
       "</div>"
      ],
      "text/plain": [
       "           id        date     price  bedrooms  bathrooms  sqft_living  \\\n",
       "0  7129300520  10/13/2014  221900.0         3       1.00         1180   \n",
       "1  6414100192   12/9/2014  538000.0         3       2.25         2570   \n",
       "2  5631500400   2/25/2015  180000.0         2       1.00          770   \n",
       "\n",
       "   sqft_lot  floors  waterfront  view  ...  grade  sqft_above  sqft_basement  \\\n",
       "0      5650     1.0         NaN   0.0  ...      7        1180            0.0   \n",
       "1      7242     2.0         0.0   0.0  ...      7        2170          400.0   \n",
       "2     10000     1.0         0.0   0.0  ...      6         770            0.0   \n",
       "\n",
       "  yr_built  yr_renovated  zipcode      lat     long  sqft_living15  sqft_lot15  \n",
       "0     1955           0.0    98178  47.5112 -122.257           1340        5650  \n",
       "1     1951        1991.0    98125  47.7210 -122.319           1690        7639  \n",
       "2     1933           NaN    98028  47.7379 -122.233           2720        8062  \n",
       "\n",
       "[3 rows x 21 columns]"
      ]
     },
     "execution_count": 2,
     "metadata": {},
     "output_type": "execute_result"
    }
   ],
   "source": [
    "df.head(3)"
   ]
  },
  {
   "cell_type": "markdown",
   "metadata": {},
   "source": [
    "<font color='green'>There are many variables that might influence the variable \"price\" of a house. For example, intuitively, the number of bedrooms should have a positive relationship with home values, which we will check later.</font>"
   ]
  },
  {
   "cell_type": "markdown",
   "metadata": {},
   "source": [
    "<font color='green'>Analyze the dataset using built-in pandas and numpy methods.</font>"
   ]
  },
  {
   "cell_type": "code",
   "execution_count": 3,
   "metadata": {},
   "outputs": [
    {
     "name": "stdout",
     "output_type": "stream",
     "text": [
      "<class 'pandas.core.frame.DataFrame'>\n",
      "RangeIndex: 21597 entries, 0 to 21596\n",
      "Data columns (total 21 columns):\n",
      "id               21597 non-null int64\n",
      "date             21597 non-null object\n",
      "price            21597 non-null float64\n",
      "bedrooms         21597 non-null int64\n",
      "bathrooms        21597 non-null float64\n",
      "sqft_living      21597 non-null int64\n",
      "sqft_lot         21597 non-null int64\n",
      "floors           21597 non-null float64\n",
      "waterfront       19221 non-null float64\n",
      "view             21534 non-null float64\n",
      "condition        21597 non-null int64\n",
      "grade            21597 non-null int64\n",
      "sqft_above       21597 non-null int64\n",
      "sqft_basement    21597 non-null object\n",
      "yr_built         21597 non-null int64\n",
      "yr_renovated     17755 non-null float64\n",
      "zipcode          21597 non-null int64\n",
      "lat              21597 non-null float64\n",
      "long             21597 non-null float64\n",
      "sqft_living15    21597 non-null int64\n",
      "sqft_lot15       21597 non-null int64\n",
      "dtypes: float64(8), int64(11), object(2)\n",
      "memory usage: 3.5+ MB\n"
     ]
    }
   ],
   "source": [
    "df.info()"
   ]
  },
  {
   "cell_type": "code",
   "execution_count": 4,
   "metadata": {},
   "outputs": [
    {
     "data": {
      "text/plain": [
       "(21597, 21)"
      ]
     },
     "execution_count": 4,
     "metadata": {},
     "output_type": "execute_result"
    }
   ],
   "source": [
    "import numpy as np\n",
    "np.shape(df)"
   ]
  },
  {
   "cell_type": "markdown",
   "metadata": {},
   "source": [
    "<font color='green'>The dataset has over 21,000 rows and 21 columns...a lot to work with!</font>"
   ]
  },
  {
   "cell_type": "markdown",
   "metadata": {},
   "source": [
    "<font color='green'>Let's set the index to be equal to the id values (since there will be no predictive value in them as independent variables)</font>"
   ]
  },
  {
   "cell_type": "code",
   "execution_count": 5,
   "metadata": {},
   "outputs": [
    {
     "data": {
      "text/html": [
       "<div>\n",
       "<style scoped>\n",
       "    .dataframe tbody tr th:only-of-type {\n",
       "        vertical-align: middle;\n",
       "    }\n",
       "\n",
       "    .dataframe tbody tr th {\n",
       "        vertical-align: top;\n",
       "    }\n",
       "\n",
       "    .dataframe thead th {\n",
       "        text-align: right;\n",
       "    }\n",
       "</style>\n",
       "<table border=\"1\" class=\"dataframe\">\n",
       "  <thead>\n",
       "    <tr style=\"text-align: right;\">\n",
       "      <th></th>\n",
       "      <th>date</th>\n",
       "      <th>price</th>\n",
       "      <th>bedrooms</th>\n",
       "      <th>bathrooms</th>\n",
       "      <th>sqft_living</th>\n",
       "      <th>sqft_lot</th>\n",
       "      <th>floors</th>\n",
       "      <th>waterfront</th>\n",
       "      <th>view</th>\n",
       "      <th>condition</th>\n",
       "      <th>grade</th>\n",
       "      <th>sqft_above</th>\n",
       "      <th>sqft_basement</th>\n",
       "      <th>yr_built</th>\n",
       "      <th>yr_renovated</th>\n",
       "      <th>zipcode</th>\n",
       "      <th>lat</th>\n",
       "      <th>long</th>\n",
       "      <th>sqft_living15</th>\n",
       "      <th>sqft_lot15</th>\n",
       "    </tr>\n",
       "    <tr>\n",
       "      <th>id</th>\n",
       "      <th></th>\n",
       "      <th></th>\n",
       "      <th></th>\n",
       "      <th></th>\n",
       "      <th></th>\n",
       "      <th></th>\n",
       "      <th></th>\n",
       "      <th></th>\n",
       "      <th></th>\n",
       "      <th></th>\n",
       "      <th></th>\n",
       "      <th></th>\n",
       "      <th></th>\n",
       "      <th></th>\n",
       "      <th></th>\n",
       "      <th></th>\n",
       "      <th></th>\n",
       "      <th></th>\n",
       "      <th></th>\n",
       "      <th></th>\n",
       "    </tr>\n",
       "  </thead>\n",
       "  <tbody>\n",
       "    <tr>\n",
       "      <th>7129300520</th>\n",
       "      <td>10/13/2014</td>\n",
       "      <td>221900.0</td>\n",
       "      <td>3</td>\n",
       "      <td>1.00</td>\n",
       "      <td>1180</td>\n",
       "      <td>5650</td>\n",
       "      <td>1.0</td>\n",
       "      <td>NaN</td>\n",
       "      <td>0.0</td>\n",
       "      <td>3</td>\n",
       "      <td>7</td>\n",
       "      <td>1180</td>\n",
       "      <td>0.0</td>\n",
       "      <td>1955</td>\n",
       "      <td>0.0</td>\n",
       "      <td>98178</td>\n",
       "      <td>47.5112</td>\n",
       "      <td>-122.257</td>\n",
       "      <td>1340</td>\n",
       "      <td>5650</td>\n",
       "    </tr>\n",
       "    <tr>\n",
       "      <th>6414100192</th>\n",
       "      <td>12/9/2014</td>\n",
       "      <td>538000.0</td>\n",
       "      <td>3</td>\n",
       "      <td>2.25</td>\n",
       "      <td>2570</td>\n",
       "      <td>7242</td>\n",
       "      <td>2.0</td>\n",
       "      <td>0.0</td>\n",
       "      <td>0.0</td>\n",
       "      <td>3</td>\n",
       "      <td>7</td>\n",
       "      <td>2170</td>\n",
       "      <td>400.0</td>\n",
       "      <td>1951</td>\n",
       "      <td>1991.0</td>\n",
       "      <td>98125</td>\n",
       "      <td>47.7210</td>\n",
       "      <td>-122.319</td>\n",
       "      <td>1690</td>\n",
       "      <td>7639</td>\n",
       "    </tr>\n",
       "    <tr>\n",
       "      <th>5631500400</th>\n",
       "      <td>2/25/2015</td>\n",
       "      <td>180000.0</td>\n",
       "      <td>2</td>\n",
       "      <td>1.00</td>\n",
       "      <td>770</td>\n",
       "      <td>10000</td>\n",
       "      <td>1.0</td>\n",
       "      <td>0.0</td>\n",
       "      <td>0.0</td>\n",
       "      <td>3</td>\n",
       "      <td>6</td>\n",
       "      <td>770</td>\n",
       "      <td>0.0</td>\n",
       "      <td>1933</td>\n",
       "      <td>NaN</td>\n",
       "      <td>98028</td>\n",
       "      <td>47.7379</td>\n",
       "      <td>-122.233</td>\n",
       "      <td>2720</td>\n",
       "      <td>8062</td>\n",
       "    </tr>\n",
       "  </tbody>\n",
       "</table>\n",
       "</div>"
      ],
      "text/plain": [
       "                  date     price  bedrooms  bathrooms  sqft_living  sqft_lot  \\\n",
       "id                                                                             \n",
       "7129300520  10/13/2014  221900.0         3       1.00         1180      5650   \n",
       "6414100192   12/9/2014  538000.0         3       2.25         2570      7242   \n",
       "5631500400   2/25/2015  180000.0         2       1.00          770     10000   \n",
       "\n",
       "            floors  waterfront  view  condition  grade  sqft_above  \\\n",
       "id                                                                   \n",
       "7129300520     1.0         NaN   0.0          3      7        1180   \n",
       "6414100192     2.0         0.0   0.0          3      7        2170   \n",
       "5631500400     1.0         0.0   0.0          3      6         770   \n",
       "\n",
       "           sqft_basement  yr_built  yr_renovated  zipcode      lat     long  \\\n",
       "id                                                                            \n",
       "7129300520           0.0      1955           0.0    98178  47.5112 -122.257   \n",
       "6414100192         400.0      1951        1991.0    98125  47.7210 -122.319   \n",
       "5631500400           0.0      1933           NaN    98028  47.7379 -122.233   \n",
       "\n",
       "            sqft_living15  sqft_lot15  \n",
       "id                                     \n",
       "7129300520           1340        5650  \n",
       "6414100192           1690        7639  \n",
       "5631500400           2720        8062  "
      ]
     },
     "execution_count": 5,
     "metadata": {},
     "output_type": "execute_result"
    }
   ],
   "source": [
    "df.set_index('id',inplace=True)\n",
    "df.head(3)"
   ]
  },
  {
   "cell_type": "code",
   "execution_count": 6,
   "metadata": {},
   "outputs": [
    {
     "data": {
      "text/plain": [
       "array([[<matplotlib.axes._subplots.AxesSubplot object at 0x123420550>,\n",
       "        <matplotlib.axes._subplots.AxesSubplot object at 0x1235166d8>,\n",
       "        <matplotlib.axes._subplots.AxesSubplot object at 0x12353ea20>,\n",
       "        <matplotlib.axes._subplots.AxesSubplot object at 0x123567f98>],\n",
       "       [<matplotlib.axes._subplots.AxesSubplot object at 0x123596550>,\n",
       "        <matplotlib.axes._subplots.AxesSubplot object at 0x1235c0ac8>,\n",
       "        <matplotlib.axes._subplots.AxesSubplot object at 0x1235f2080>,\n",
       "        <matplotlib.axes._subplots.AxesSubplot object at 0x1239eb630>],\n",
       "       [<matplotlib.axes._subplots.AxesSubplot object at 0x1239eb668>,\n",
       "        <matplotlib.axes._subplots.AxesSubplot object at 0x123a43128>,\n",
       "        <matplotlib.axes._subplots.AxesSubplot object at 0x123a6a6a0>,\n",
       "        <matplotlib.axes._subplots.AxesSubplot object at 0x123a92c18>],\n",
       "       [<matplotlib.axes._subplots.AxesSubplot object at 0x123ac31d0>,\n",
       "        <matplotlib.axes._subplots.AxesSubplot object at 0x123aeb748>,\n",
       "        <matplotlib.axes._subplots.AxesSubplot object at 0x123b13cc0>,\n",
       "        <matplotlib.axes._subplots.AxesSubplot object at 0x123b42278>],\n",
       "       [<matplotlib.axes._subplots.AxesSubplot object at 0x123b697f0>,\n",
       "        <matplotlib.axes._subplots.AxesSubplot object at 0x123b92d68>,\n",
       "        <matplotlib.axes._subplots.AxesSubplot object at 0x123bc0320>,\n",
       "        <matplotlib.axes._subplots.AxesSubplot object at 0x123be8898>]],\n",
       "      dtype=object)"
      ]
     },
     "execution_count": 6,
     "metadata": {},
     "output_type": "execute_result"
    }
   ],
   "source": [
    "df.hist(bins=20,figsize=(15,12))"
   ]
  },
  {
   "cell_type": "markdown",
   "metadata": {},
   "source": [
    "<font color='green'>Let's explore the \"date\" column.</font>"
   ]
  },
  {
   "cell_type": "code",
   "execution_count": 7,
   "metadata": {},
   "outputs": [
    {
     "data": {
      "text/plain": [
       "count         21597\n",
       "unique          372\n",
       "top       6/23/2014\n",
       "freq            142\n",
       "Name: date, dtype: object"
      ]
     },
     "execution_count": 7,
     "metadata": {},
     "output_type": "execute_result"
    }
   ],
   "source": [
    "df['date'].describe()"
   ]
  },
  {
   "cell_type": "markdown",
   "metadata": {},
   "source": [
    "<font color='green'>It is likely that we won't be using dates to predict home value. Let's drop the variable.</font>"
   ]
  },
  {
   "cell_type": "code",
   "execution_count": 8,
   "metadata": {},
   "outputs": [],
   "source": [
    "df=df.drop('date',axis=1)"
   ]
  },
  {
   "cell_type": "markdown",
   "metadata": {},
   "source": [
    "<font color='green'>Let's explore the dataset to see if there are missing values.</font>"
   ]
  },
  {
   "cell_type": "code",
   "execution_count": 9,
   "metadata": {},
   "outputs": [
    {
     "data": {
      "text/plain": [
       "Index(['price', 'bedrooms', 'bathrooms', 'sqft_living', 'sqft_lot', 'floors',\n",
       "       'waterfront', 'view', 'condition', 'grade', 'sqft_above',\n",
       "       'sqft_basement', 'yr_built', 'yr_renovated', 'zipcode', 'lat', 'long',\n",
       "       'sqft_living15', 'sqft_lot15'],\n",
       "      dtype='object')"
      ]
     },
     "execution_count": 9,
     "metadata": {},
     "output_type": "execute_result"
    }
   ],
   "source": [
    "df.columns"
   ]
  },
  {
   "cell_type": "code",
   "execution_count": 10,
   "metadata": {},
   "outputs": [
    {
     "name": "stdout",
     "output_type": "stream",
     "text": [
      "waterfront\n",
      "view\n",
      "yr_renovated\n"
     ]
    }
   ],
   "source": [
    "for element in df.columns:\n",
    "    if df[element].isna().sum()>0:\n",
    "        print(element)"
   ]
  },
  {
   "cell_type": "code",
   "execution_count": 11,
   "metadata": {},
   "outputs": [
    {
     "data": {
      "text/html": [
       "<div>\n",
       "<style scoped>\n",
       "    .dataframe tbody tr th:only-of-type {\n",
       "        vertical-align: middle;\n",
       "    }\n",
       "\n",
       "    .dataframe tbody tr th {\n",
       "        vertical-align: top;\n",
       "    }\n",
       "\n",
       "    .dataframe thead th {\n",
       "        text-align: right;\n",
       "    }\n",
       "</style>\n",
       "<table border=\"1\" class=\"dataframe\">\n",
       "  <thead>\n",
       "    <tr style=\"text-align: right;\">\n",
       "      <th></th>\n",
       "      <th>Total Null</th>\n",
       "      <th>Percent Null</th>\n",
       "    </tr>\n",
       "  </thead>\n",
       "  <tbody>\n",
       "    <tr>\n",
       "      <th>yr_renovated</th>\n",
       "      <td>3842</td>\n",
       "      <td>0.177895</td>\n",
       "    </tr>\n",
       "    <tr>\n",
       "      <th>waterfront</th>\n",
       "      <td>2376</td>\n",
       "      <td>0.110015</td>\n",
       "    </tr>\n",
       "    <tr>\n",
       "      <th>view</th>\n",
       "      <td>63</td>\n",
       "      <td>0.002917</td>\n",
       "    </tr>\n",
       "    <tr>\n",
       "      <th>sqft_lot15</th>\n",
       "      <td>0</td>\n",
       "      <td>0.000000</td>\n",
       "    </tr>\n",
       "    <tr>\n",
       "      <th>condition</th>\n",
       "      <td>0</td>\n",
       "      <td>0.000000</td>\n",
       "    </tr>\n",
       "    <tr>\n",
       "      <th>bedrooms</th>\n",
       "      <td>0</td>\n",
       "      <td>0.000000</td>\n",
       "    </tr>\n",
       "    <tr>\n",
       "      <th>bathrooms</th>\n",
       "      <td>0</td>\n",
       "      <td>0.000000</td>\n",
       "    </tr>\n",
       "    <tr>\n",
       "      <th>sqft_living</th>\n",
       "      <td>0</td>\n",
       "      <td>0.000000</td>\n",
       "    </tr>\n",
       "    <tr>\n",
       "      <th>sqft_lot</th>\n",
       "      <td>0</td>\n",
       "      <td>0.000000</td>\n",
       "    </tr>\n",
       "    <tr>\n",
       "      <th>floors</th>\n",
       "      <td>0</td>\n",
       "      <td>0.000000</td>\n",
       "    </tr>\n",
       "    <tr>\n",
       "      <th>grade</th>\n",
       "      <td>0</td>\n",
       "      <td>0.000000</td>\n",
       "    </tr>\n",
       "    <tr>\n",
       "      <th>sqft_living15</th>\n",
       "      <td>0</td>\n",
       "      <td>0.000000</td>\n",
       "    </tr>\n",
       "    <tr>\n",
       "      <th>sqft_above</th>\n",
       "      <td>0</td>\n",
       "      <td>0.000000</td>\n",
       "    </tr>\n",
       "    <tr>\n",
       "      <th>sqft_basement</th>\n",
       "      <td>0</td>\n",
       "      <td>0.000000</td>\n",
       "    </tr>\n",
       "    <tr>\n",
       "      <th>yr_built</th>\n",
       "      <td>0</td>\n",
       "      <td>0.000000</td>\n",
       "    </tr>\n",
       "    <tr>\n",
       "      <th>zipcode</th>\n",
       "      <td>0</td>\n",
       "      <td>0.000000</td>\n",
       "    </tr>\n",
       "    <tr>\n",
       "      <th>lat</th>\n",
       "      <td>0</td>\n",
       "      <td>0.000000</td>\n",
       "    </tr>\n",
       "    <tr>\n",
       "      <th>long</th>\n",
       "      <td>0</td>\n",
       "      <td>0.000000</td>\n",
       "    </tr>\n",
       "    <tr>\n",
       "      <th>price</th>\n",
       "      <td>0</td>\n",
       "      <td>0.000000</td>\n",
       "    </tr>\n",
       "  </tbody>\n",
       "</table>\n",
       "</div>"
      ],
      "text/plain": [
       "               Total Null  Percent Null\n",
       "yr_renovated         3842      0.177895\n",
       "waterfront           2376      0.110015\n",
       "view                   63      0.002917\n",
       "sqft_lot15              0      0.000000\n",
       "condition               0      0.000000\n",
       "bedrooms                0      0.000000\n",
       "bathrooms               0      0.000000\n",
       "sqft_living             0      0.000000\n",
       "sqft_lot                0      0.000000\n",
       "floors                  0      0.000000\n",
       "grade                   0      0.000000\n",
       "sqft_living15           0      0.000000\n",
       "sqft_above              0      0.000000\n",
       "sqft_basement           0      0.000000\n",
       "yr_built                0      0.000000\n",
       "zipcode                 0      0.000000\n",
       "lat                     0      0.000000\n",
       "long                    0      0.000000\n",
       "price                   0      0.000000"
      ]
     },
     "execution_count": 11,
     "metadata": {},
     "output_type": "execute_result"
    }
   ],
   "source": [
    "total = df.isna().sum().sort_values(ascending=False)\n",
    "percent_blank = (df.isna().sum()/df.isna().count()).sort_values(ascending=False)\n",
    "missing = pd.concat([total,percent_blank],axis=1, keys=['Total Null','Percent Null'])\n",
    "missing"
   ]
  },
  {
   "cell_type": "code",
   "execution_count": 12,
   "metadata": {},
   "outputs": [
    {
     "data": {
      "text/plain": [
       "0.124"
      ]
     },
     "execution_count": 12,
     "metadata": {},
     "output_type": "execute_result"
    }
   ],
   "source": [
    "round((df['waterfront'].isna().sum())/df['waterfront'].count(),3)"
   ]
  },
  {
   "cell_type": "markdown",
   "metadata": {},
   "source": [
    "<font color='green'>12.4% of the \"waterfront\" data is missing, which we will address soon.</font>"
   ]
  },
  {
   "cell_type": "code",
   "execution_count": 13,
   "metadata": {},
   "outputs": [
    {
     "data": {
      "text/plain": [
       "0.003"
      ]
     },
     "execution_count": 13,
     "metadata": {},
     "output_type": "execute_result"
    }
   ],
   "source": [
    "round((df['view'].isna().sum())/df['view'].count(),3)"
   ]
  },
  {
   "cell_type": "markdown",
   "metadata": {},
   "source": [
    "<font color='green'>0.3% of the \"view\" data is missing, which we will address soon.</font>"
   ]
  },
  {
   "cell_type": "code",
   "execution_count": 14,
   "metadata": {},
   "outputs": [
    {
     "data": {
      "text/plain": [
       "0.216"
      ]
     },
     "execution_count": 14,
     "metadata": {},
     "output_type": "execute_result"
    }
   ],
   "source": [
    "round((df['yr_renovated'].isna().sum())/df['yr_renovated'].count(),3)"
   ]
  },
  {
   "cell_type": "markdown",
   "metadata": {},
   "source": [
    "<font color='green'>21.6% of the \"yr_renovated\" data is missing, which we will address soon.</font>"
   ]
  },
  {
   "cell_type": "markdown",
   "metadata": {},
   "source": [
    "<font color='green'>Let's take care of the missing values in the \"waterfront\" column.</font>"
   ]
  },
  {
   "cell_type": "code",
   "execution_count": 15,
   "metadata": {},
   "outputs": [],
   "source": [
    "import matplotlib.pyplot as plt\n",
    "%matplotlib inline"
   ]
  },
  {
   "cell_type": "code",
   "execution_count": 16,
   "metadata": {},
   "outputs": [
    {
     "data": {
      "text/plain": [
       "Text(0.5, 1.0, 'Waterfront Histogram')"
      ]
     },
     "execution_count": 16,
     "metadata": {},
     "output_type": "execute_result"
    },
    {
     "data": {
      "image/png": "[encoded data removed]",
      "text/plain": [
       "<Figure size 216x216 with 1 Axes>"
      ]
     },
     "metadata": {
      "needs_background": "light"
     },
     "output_type": "display_data"
    }
   ],
   "source": [
    "df['waterfront'].hist(figsize=(3,3))\n",
    "plt.xlabel('Value')\n",
    "plt.ylabel('Count')\n",
    "plt.title('Waterfront Histogram')"
   ]
  },
  {
   "cell_type": "markdown",
   "metadata": {},
   "source": [
    "<font color='green'>The overwhelming majority of values are 0, i.e., indicative that the property is not waterfront. Let's replace all blank values with 0, the mode.</font>"
   ]
  },
  {
   "cell_type": "code",
   "execution_count": 17,
   "metadata": {},
   "outputs": [],
   "source": [
    "df['waterfront'].fillna(0,inplace=True)"
   ]
  },
  {
   "cell_type": "code",
   "execution_count": 18,
   "metadata": {},
   "outputs": [
    {
     "data": {
      "text/plain": [
       "0"
      ]
     },
     "execution_count": 18,
     "metadata": {},
     "output_type": "execute_result"
    }
   ],
   "source": [
    "df['waterfront'].isna().sum()"
   ]
  },
  {
   "cell_type": "markdown",
   "metadata": {},
   "source": [
    "<font color='green'>Let's take care of the missing values in the \"view\" column.</font>"
   ]
  },
  {
   "cell_type": "code",
   "execution_count": 19,
   "metadata": {},
   "outputs": [
    {
     "data": {
      "text/plain": [
       "Text(0.5, 1.0, 'View Histogram')"
      ]
     },
     "execution_count": 19,
     "metadata": {},
     "output_type": "execute_result"
    },
    {
     "data": {
      "image/png": "[encoded data removed]",
      "text/plain": [
       "<Figure size 216x216 with 1 Axes>"
      ]
     },
     "metadata": {
      "needs_background": "light"
     },
     "output_type": "display_data"
    }
   ],
   "source": [
    "df['view'].hist(figsize=(3,3))\n",
    "plt.xlabel('Value')\n",
    "plt.ylabel('Count')\n",
    "plt.title('View Histogram')"
   ]
  },
  {
   "cell_type": "markdown",
   "metadata": {},
   "source": [
    "<font color='green'>Once again, the overwhelming majority of values are 0. Let's replace all blank values with 0, the mode.</font>"
   ]
  },
  {
   "cell_type": "code",
   "execution_count": 20,
   "metadata": {},
   "outputs": [],
   "source": [
    "df['view'].fillna(0,inplace=True)"
   ]
  },
  {
   "cell_type": "code",
   "execution_count": 21,
   "metadata": {},
   "outputs": [
    {
     "data": {
      "text/plain": [
       "0"
      ]
     },
     "execution_count": 21,
     "metadata": {},
     "output_type": "execute_result"
    }
   ],
   "source": [
    "df['view'].isna().sum()"
   ]
  },
  {
   "cell_type": "markdown",
   "metadata": {},
   "source": [
    "<font color='green'>Let's take care of the missing values in the \"yr_renovated\" column.</font>"
   ]
  },
  {
   "cell_type": "code",
   "execution_count": 22,
   "metadata": {},
   "outputs": [
    {
     "data": {
      "text/plain": [
       "3842"
      ]
     },
     "execution_count": 22,
     "metadata": {},
     "output_type": "execute_result"
    }
   ],
   "source": [
    "df['yr_renovated'].isna().sum()"
   ]
  },
  {
   "cell_type": "code",
   "execution_count": 23,
   "metadata": {},
   "outputs": [
    {
     "data": {
      "text/plain": [
       "count    17755.000000\n",
       "mean        83.636778\n",
       "std        399.946414\n",
       "min          0.000000\n",
       "25%          0.000000\n",
       "50%          0.000000\n",
       "75%          0.000000\n",
       "max       2015.000000\n",
       "Name: yr_renovated, dtype: float64"
      ]
     },
     "execution_count": 23,
     "metadata": {},
     "output_type": "execute_result"
    }
   ],
   "source": [
    "df['yr_renovated'].describe()"
   ]
  },
  {
   "cell_type": "code",
   "execution_count": 24,
   "metadata": {},
   "outputs": [
    {
     "data": {
      "text/plain": [
       "Text(0.5, 1.0, 'Yr_Renovated Histogram')"
      ]
     },
     "execution_count": 24,
     "metadata": {},
     "output_type": "execute_result"
    },
    {
     "data": {
      "image/png": "[encoded data removed]",
      "text/plain": [
       "<Figure size 216x216 with 1 Axes>"
      ]
     },
     "metadata": {
      "needs_background": "light"
     },
     "output_type": "display_data"
    }
   ],
   "source": [
    "df['yr_renovated'].hist(figsize=(3,3),bins=20)\n",
    "plt.xlabel('Value')\n",
    "plt.ylabel('Count')\n",
    "plt.title('Yr_Renovated Histogram')"
   ]
  },
  {
   "cell_type": "code",
   "execution_count": 25,
   "metadata": {
    "scrolled": true
   },
   "outputs": [
    {
     "data": {
      "text/plain": [
       "0.0       17011\n",
       "2014.0       73\n",
       "2003.0       31\n",
       "2013.0       31\n",
       "2007.0       30\n",
       "2000.0       29\n",
       "2005.0       29\n",
       "1990.0       22\n",
       "Name: yr_renovated, dtype: int64"
      ]
     },
     "execution_count": 25,
     "metadata": {},
     "output_type": "execute_result"
    }
   ],
   "source": [
    "df.yr_renovated.value_counts().head(8)"
   ]
  },
  {
   "cell_type": "markdown",
   "metadata": {},
   "source": [
    "<font color='green'>The majority of homes have not been renovated, so let's replace missing values with 0.</font>"
   ]
  },
  {
   "cell_type": "code",
   "execution_count": 26,
   "metadata": {},
   "outputs": [],
   "source": [
    "df['yr_renovated'].fillna(0,inplace=True)"
   ]
  },
  {
   "cell_type": "markdown",
   "metadata": {},
   "source": [
    "<font color='green'>Let's see if there are any null values, or if we took care of them all.</font>"
   ]
  },
  {
   "cell_type": "code",
   "execution_count": 27,
   "metadata": {},
   "outputs": [
    {
     "data": {
      "text/plain": [
       "price            0\n",
       "bedrooms         0\n",
       "bathrooms        0\n",
       "sqft_living      0\n",
       "sqft_lot         0\n",
       "floors           0\n",
       "waterfront       0\n",
       "view             0\n",
       "condition        0\n",
       "grade            0\n",
       "sqft_above       0\n",
       "sqft_basement    0\n",
       "yr_built         0\n",
       "yr_renovated     0\n",
       "zipcode          0\n",
       "lat              0\n",
       "long             0\n",
       "sqft_living15    0\n",
       "sqft_lot15       0\n",
       "dtype: int64"
      ]
     },
     "execution_count": 27,
     "metadata": {},
     "output_type": "execute_result"
    }
   ],
   "source": [
    "df.isna().sum()"
   ]
  },
  {
   "cell_type": "markdown",
   "metadata": {},
   "source": [
    "<font color='green'>Great, no missing values.</font>"
   ]
  },
  {
   "cell_type": "markdown",
   "metadata": {},
   "source": [
    "<font color='green'>We can now analyze the other columns further.</font>"
   ]
  },
  {
   "cell_type": "markdown",
   "metadata": {},
   "source": [
    "<font color='green'>Let's look at \"bedrooms\".</font>"
   ]
  },
  {
   "cell_type": "code",
   "execution_count": 28,
   "metadata": {},
   "outputs": [
    {
     "data": {
      "text/plain": [
       "count    21597.000000\n",
       "mean         3.373200\n",
       "std          0.926299\n",
       "min          1.000000\n",
       "25%          3.000000\n",
       "50%          3.000000\n",
       "75%          4.000000\n",
       "max         33.000000\n",
       "Name: bedrooms, dtype: float64"
      ]
     },
     "execution_count": 28,
     "metadata": {},
     "output_type": "execute_result"
    }
   ],
   "source": [
    "df['bedrooms'].describe()"
   ]
  },
  {
   "cell_type": "code",
   "execution_count": 29,
   "metadata": {},
   "outputs": [
    {
     "data": {
      "text/plain": [
       "3     9824\n",
       "4     6882\n",
       "2     2760\n",
       "5     1601\n",
       "6      272\n",
       "1      196\n",
       "7       38\n",
       "8       13\n",
       "9        6\n",
       "10       3\n",
       "11       1\n",
       "33       1\n",
       "Name: bedrooms, dtype: int64"
      ]
     },
     "execution_count": 29,
     "metadata": {},
     "output_type": "execute_result"
    }
   ],
   "source": [
    "df['bedrooms'].value_counts()"
   ]
  },
  {
   "cell_type": "markdown",
   "metadata": {},
   "source": [
    "<font color='green'>We can see that there's actually a house with 33(!) bedrooms. Let's look to see if there are a lot of houses with double-digit number of bedrooms.</font>"
   ]
  },
  {
   "cell_type": "code",
   "execution_count": 30,
   "metadata": {},
   "outputs": [
    {
     "data": {
      "text/html": [
       "<div>\n",
       "<style scoped>\n",
       "    .dataframe tbody tr th:only-of-type {\n",
       "        vertical-align: middle;\n",
       "    }\n",
       "\n",
       "    .dataframe tbody tr th {\n",
       "        vertical-align: top;\n",
       "    }\n",
       "\n",
       "    .dataframe thead th {\n",
       "        text-align: right;\n",
       "    }\n",
       "</style>\n",
       "<table border=\"1\" class=\"dataframe\">\n",
       "  <thead>\n",
       "    <tr style=\"text-align: right;\">\n",
       "      <th></th>\n",
       "      <th>price</th>\n",
       "      <th>bedrooms</th>\n",
       "      <th>bathrooms</th>\n",
       "      <th>sqft_living</th>\n",
       "      <th>sqft_lot</th>\n",
       "      <th>floors</th>\n",
       "      <th>waterfront</th>\n",
       "      <th>view</th>\n",
       "      <th>condition</th>\n",
       "      <th>grade</th>\n",
       "      <th>sqft_above</th>\n",
       "      <th>sqft_basement</th>\n",
       "      <th>yr_built</th>\n",
       "      <th>yr_renovated</th>\n",
       "      <th>zipcode</th>\n",
       "      <th>lat</th>\n",
       "      <th>long</th>\n",
       "      <th>sqft_living15</th>\n",
       "      <th>sqft_lot15</th>\n",
       "    </tr>\n",
       "    <tr>\n",
       "      <th>id</th>\n",
       "      <th></th>\n",
       "      <th></th>\n",
       "      <th></th>\n",
       "      <th></th>\n",
       "      <th></th>\n",
       "      <th></th>\n",
       "      <th></th>\n",
       "      <th></th>\n",
       "      <th></th>\n",
       "      <th></th>\n",
       "      <th></th>\n",
       "      <th></th>\n",
       "      <th></th>\n",
       "      <th></th>\n",
       "      <th></th>\n",
       "      <th></th>\n",
       "      <th></th>\n",
       "      <th></th>\n",
       "      <th></th>\n",
       "    </tr>\n",
       "  </thead>\n",
       "  <tbody>\n",
       "    <tr>\n",
       "      <th>1773100755</th>\n",
       "      <td>520000.0</td>\n",
       "      <td>11</td>\n",
       "      <td>3.00</td>\n",
       "      <td>3000</td>\n",
       "      <td>4960</td>\n",
       "      <td>2.0</td>\n",
       "      <td>0.0</td>\n",
       "      <td>0.0</td>\n",
       "      <td>3</td>\n",
       "      <td>7</td>\n",
       "      <td>2400</td>\n",
       "      <td>600.0</td>\n",
       "      <td>1918</td>\n",
       "      <td>1999.0</td>\n",
       "      <td>98106</td>\n",
       "      <td>47.5560</td>\n",
       "      <td>-122.363</td>\n",
       "      <td>1420</td>\n",
       "      <td>4960</td>\n",
       "    </tr>\n",
       "    <tr>\n",
       "      <th>627300145</th>\n",
       "      <td>1150000.0</td>\n",
       "      <td>10</td>\n",
       "      <td>5.25</td>\n",
       "      <td>4590</td>\n",
       "      <td>10920</td>\n",
       "      <td>1.0</td>\n",
       "      <td>0.0</td>\n",
       "      <td>2.0</td>\n",
       "      <td>3</td>\n",
       "      <td>9</td>\n",
       "      <td>2500</td>\n",
       "      <td>2090.0</td>\n",
       "      <td>2008</td>\n",
       "      <td>0.0</td>\n",
       "      <td>98004</td>\n",
       "      <td>47.5861</td>\n",
       "      <td>-122.113</td>\n",
       "      <td>2730</td>\n",
       "      <td>10400</td>\n",
       "    </tr>\n",
       "    <tr>\n",
       "      <th>5566100170</th>\n",
       "      <td>650000.0</td>\n",
       "      <td>10</td>\n",
       "      <td>2.00</td>\n",
       "      <td>3610</td>\n",
       "      <td>11914</td>\n",
       "      <td>2.0</td>\n",
       "      <td>0.0</td>\n",
       "      <td>0.0</td>\n",
       "      <td>4</td>\n",
       "      <td>7</td>\n",
       "      <td>3010</td>\n",
       "      <td>600.0</td>\n",
       "      <td>1958</td>\n",
       "      <td>0.0</td>\n",
       "      <td>98006</td>\n",
       "      <td>47.5705</td>\n",
       "      <td>-122.175</td>\n",
       "      <td>2040</td>\n",
       "      <td>11914</td>\n",
       "    </tr>\n",
       "    <tr>\n",
       "      <th>2402100895</th>\n",
       "      <td>640000.0</td>\n",
       "      <td>33</td>\n",
       "      <td>1.75</td>\n",
       "      <td>1620</td>\n",
       "      <td>6000</td>\n",
       "      <td>1.0</td>\n",
       "      <td>0.0</td>\n",
       "      <td>0.0</td>\n",
       "      <td>5</td>\n",
       "      <td>7</td>\n",
       "      <td>1040</td>\n",
       "      <td>580.0</td>\n",
       "      <td>1947</td>\n",
       "      <td>0.0</td>\n",
       "      <td>98103</td>\n",
       "      <td>47.6878</td>\n",
       "      <td>-122.331</td>\n",
       "      <td>1330</td>\n",
       "      <td>4700</td>\n",
       "    </tr>\n",
       "    <tr>\n",
       "      <th>8812401450</th>\n",
       "      <td>660000.0</td>\n",
       "      <td>10</td>\n",
       "      <td>3.00</td>\n",
       "      <td>2920</td>\n",
       "      <td>3745</td>\n",
       "      <td>2.0</td>\n",
       "      <td>0.0</td>\n",
       "      <td>0.0</td>\n",
       "      <td>4</td>\n",
       "      <td>7</td>\n",
       "      <td>1860</td>\n",
       "      <td>1060.0</td>\n",
       "      <td>1913</td>\n",
       "      <td>0.0</td>\n",
       "      <td>98105</td>\n",
       "      <td>47.6635</td>\n",
       "      <td>-122.320</td>\n",
       "      <td>1810</td>\n",
       "      <td>3745</td>\n",
       "    </tr>\n",
       "  </tbody>\n",
       "</table>\n",
       "</div>"
      ],
      "text/plain": [
       "                price  bedrooms  bathrooms  sqft_living  sqft_lot  floors  \\\n",
       "id                                                                          \n",
       "1773100755   520000.0        11       3.00         3000      4960     2.0   \n",
       "627300145   1150000.0        10       5.25         4590     10920     1.0   \n",
       "5566100170   650000.0        10       2.00         3610     11914     2.0   \n",
       "2402100895   640000.0        33       1.75         1620      6000     1.0   \n",
       "8812401450   660000.0        10       3.00         2920      3745     2.0   \n",
       "\n",
       "            waterfront  view  condition  grade  sqft_above sqft_basement  \\\n",
       "id                                                                         \n",
       "1773100755         0.0   0.0          3      7        2400         600.0   \n",
       "627300145          0.0   2.0          3      9        2500        2090.0   \n",
       "5566100170         0.0   0.0          4      7        3010         600.0   \n",
       "2402100895         0.0   0.0          5      7        1040         580.0   \n",
       "8812401450         0.0   0.0          4      7        1860        1060.0   \n",
       "\n",
       "            yr_built  yr_renovated  zipcode      lat     long  sqft_living15  \\\n",
       "id                                                                             \n",
       "1773100755      1918        1999.0    98106  47.5560 -122.363           1420   \n",
       "627300145       2008           0.0    98004  47.5861 -122.113           2730   \n",
       "5566100170      1958           0.0    98006  47.5705 -122.175           2040   \n",
       "2402100895      1947           0.0    98103  47.6878 -122.331           1330   \n",
       "8812401450      1913           0.0    98105  47.6635 -122.320           1810   \n",
       "\n",
       "            sqft_lot15  \n",
       "id                      \n",
       "1773100755        4960  \n",
       "627300145        10400  \n",
       "5566100170       11914  \n",
       "2402100895        4700  \n",
       "8812401450        3745  "
      ]
     },
     "execution_count": 30,
     "metadata": {},
     "output_type": "execute_result"
    }
   ],
   "source": [
    "df.loc[df['bedrooms']>9]"
   ]
  },
  {
   "cell_type": "code",
   "execution_count": 31,
   "metadata": {},
   "outputs": [
    {
     "data": {
      "text/plain": [
       "3     9824\n",
       "4     6882\n",
       "2     2760\n",
       "5     1601\n",
       "6      272\n",
       "1      196\n",
       "7       38\n",
       "8       13\n",
       "9        6\n",
       "10       3\n",
       "11       1\n",
       "33       1\n",
       "Name: bedrooms, dtype: int64"
      ]
     },
     "execution_count": 31,
     "metadata": {},
     "output_type": "execute_result"
    }
   ],
   "source": [
    "df['bedrooms'].value_counts()"
   ]
  },
  {
   "cell_type": "markdown",
   "metadata": {},
   "source": [
    "<font color='green'>The house with 33 bedrooms looks like an outlier that was likely mistyped. We could either set it equal to the next max bedrooms, we could assume that it was a typo and was intended to be a \"3\", or we can just drop the row entirely. All methods have their merits. Let's replace it with a \"3\". </font>"
   ]
  },
  {
   "cell_type": "code",
   "execution_count": 32,
   "metadata": {},
   "outputs": [],
   "source": [
    "df['bedrooms'].replace(33,3,inplace=True)"
   ]
  },
  {
   "cell_type": "markdown",
   "metadata": {},
   "source": [
    "<font color='green'>Confirm that the max is now 11.</font>"
   ]
  },
  {
   "cell_type": "code",
   "execution_count": 33,
   "metadata": {},
   "outputs": [
    {
     "data": {
      "text/plain": [
       "11"
      ]
     },
     "execution_count": 33,
     "metadata": {},
     "output_type": "execute_result"
    }
   ],
   "source": [
    "df['bedrooms'].max()"
   ]
  },
  {
   "cell_type": "markdown",
   "metadata": {},
   "source": [
    "<font color='green'>Let's analyze the \"bathrooms\" column.</font>"
   ]
  },
  {
   "cell_type": "code",
   "execution_count": 34,
   "metadata": {},
   "outputs": [
    {
     "data": {
      "text/plain": [
       "2.50    5377\n",
       "1.00    3851\n",
       "1.75    3048\n",
       "2.25    2047\n",
       "2.00    1930\n",
       "1.50    1445\n",
       "2.75    1185\n",
       "3.00     753\n",
       "3.50     731\n",
       "3.25     589\n",
       "3.75     155\n",
       "4.00     136\n",
       "4.50     100\n",
       "4.25      79\n",
       "0.75      71\n",
       "4.75      23\n",
       "5.00      21\n",
       "5.25      13\n",
       "5.50      10\n",
       "1.25       9\n",
       "6.00       6\n",
       "5.75       4\n",
       "0.50       4\n",
       "8.00       2\n",
       "6.25       2\n",
       "6.75       2\n",
       "6.50       2\n",
       "7.50       1\n",
       "7.75       1\n",
       "Name: bathrooms, dtype: int64"
      ]
     },
     "execution_count": 34,
     "metadata": {},
     "output_type": "execute_result"
    }
   ],
   "source": [
    "df['bathrooms'].value_counts()"
   ]
  },
  {
   "cell_type": "markdown",
   "metadata": {},
   "source": [
    "<font color='green'>While half bathrooms exist, it is strange that we are seeing quarter and three-quarter bathrooms. Let's fix that by rounding to the nearest half bathroom. </font>"
   ]
  },
  {
   "cell_type": "code",
   "execution_count": 35,
   "metadata": {},
   "outputs": [],
   "source": [
    "df['bathrooms']=df['bathrooms'].map(lambda x: round(x*2)/2)"
   ]
  },
  {
   "cell_type": "code",
   "execution_count": 36,
   "metadata": {},
   "outputs": [
    {
     "data": {
      "text/plain": [
       "2.0    7025\n",
       "2.5    5377\n",
       "1.0    3931\n",
       "3.0    2527\n",
       "1.5    1445\n",
       "3.5     731\n",
       "4.0     370\n",
       "4.5     100\n",
       "5.0      57\n",
       "6.0      12\n",
       "5.5      10\n",
       "0.5       4\n",
       "8.0       3\n",
       "6.5       2\n",
       "7.0       2\n",
       "7.5       1\n",
       "Name: bathrooms, dtype: int64"
      ]
     },
     "execution_count": 36,
     "metadata": {},
     "output_type": "execute_result"
    }
   ],
   "source": [
    "df['bathrooms'].value_counts()"
   ]
  },
  {
   "cell_type": "markdown",
   "metadata": {},
   "source": [
    "<font color='green'>Let's drop \"latitude\" and \"longitude\" as these will be difficult to use for predictions.</font>"
   ]
  },
  {
   "cell_type": "code",
   "execution_count": 37,
   "metadata": {},
   "outputs": [],
   "source": [
    "df=df.drop('lat',axis=1)\n",
    "df=df.drop('long',axis=1)"
   ]
  },
  {
   "cell_type": "markdown",
   "metadata": {},
   "source": [
    "<font color='green'>Let's explore \"zipcode\".</font>"
   ]
  },
  {
   "cell_type": "code",
   "execution_count": 38,
   "metadata": {},
   "outputs": [
    {
     "data": {
      "text/plain": [
       "65"
      ]
     },
     "execution_count": 38,
     "metadata": {},
     "output_type": "execute_result"
    }
   ],
   "source": [
    "df.zipcode.value_counts().nunique()"
   ]
  },
  {
   "cell_type": "code",
   "execution_count": 39,
   "metadata": {},
   "outputs": [
    {
     "data": {
      "text/plain": [
       "332.26153846153846"
      ]
     },
     "execution_count": 39,
     "metadata": {},
     "output_type": "execute_result"
    }
   ],
   "source": [
    "df.zipcode.count()/df.zipcode.value_counts().nunique()"
   ]
  },
  {
   "cell_type": "markdown",
   "metadata": {},
   "source": [
    "<font color='green'>Our model might get too clunky if we use 65 zipcodes. Note, however, that there is an average of 332 values per zipcode, which should be sufficient for helpful predictions, if we want to use all of these variables. For now, we will drop this variable, but we might come back to it later.</font>"
   ]
  },
  {
   "cell_type": "code",
   "execution_count": 40,
   "metadata": {},
   "outputs": [],
   "source": [
    "df=df.drop('zipcode',axis=1)"
   ]
  },
  {
   "cell_type": "markdown",
   "metadata": {},
   "source": [
    "<font color='green'>Let's explore \"floors\".</font>"
   ]
  },
  {
   "cell_type": "code",
   "execution_count": 41,
   "metadata": {},
   "outputs": [
    {
     "data": {
      "text/plain": [
       "1.0    10673\n",
       "2.0     8235\n",
       "1.5     1910\n",
       "3.0      611\n",
       "2.5      161\n",
       "3.5        7\n",
       "Name: floors, dtype: int64"
      ]
     },
     "execution_count": 41,
     "metadata": {},
     "output_type": "execute_result"
    }
   ],
   "source": [
    "df['floors'].value_counts()"
   ]
  },
  {
   "cell_type": "markdown",
   "metadata": {},
   "source": [
    "<font color='green'>This looks completely normal. We can view this in a pie chart as well.</font>"
   ]
  },
  {
   "cell_type": "code",
   "execution_count": 42,
   "metadata": {
    "scrolled": true
   },
   "outputs": [
    {
     "data": {
      "image/png": "[encoded data removed]",
      "text/plain": [
       "<Figure size 288x288 with 1 Axes>"
      ]
     },
     "metadata": {},
     "output_type": "display_data"
    }
   ],
   "source": [
    "import seaborn as sns\n",
    "labels=df['floors'].value_counts().index\n",
    "sizes=df['floors'].value_counts().values\n",
    "plt.figure(figsize=(4,4))\n",
    "plt.pie(sizes,labels=labels,autopct='%1.0f%%')\n",
    "plt.title('Breakdown of Number of Floors')\n",
    "plt.show()"
   ]
  },
  {
   "cell_type": "markdown",
   "metadata": {},
   "source": [
    "<font color='green'>It's slightly cluttered, but we can easily see that the majority of homes have either 1 or 2 floors.</font>"
   ]
  },
  {
   "cell_type": "markdown",
   "metadata": {},
   "source": [
    "<font color='green'>Let's explore \"condition\".</font>"
   ]
  },
  {
   "cell_type": "code",
   "execution_count": 43,
   "metadata": {},
   "outputs": [
    {
     "data": {
      "text/plain": [
       "3    14020\n",
       "4     5677\n",
       "5     1701\n",
       "2      170\n",
       "1       29\n",
       "Name: condition, dtype: int64"
      ]
     },
     "execution_count": 43,
     "metadata": {},
     "output_type": "execute_result"
    }
   ],
   "source": [
    "df.condition.value_counts()"
   ]
  },
  {
   "cell_type": "markdown",
   "metadata": {},
   "source": [
    "<font color='green'>This looks completely normal.</font>"
   ]
  },
  {
   "cell_type": "markdown",
   "metadata": {},
   "source": [
    "<font color='green'>Let's explore \"grade\".</font>"
   ]
  },
  {
   "cell_type": "code",
   "execution_count": 44,
   "metadata": {},
   "outputs": [
    {
     "data": {
      "text/plain": [
       "7     8974\n",
       "8     6065\n",
       "9     2615\n",
       "6     2038\n",
       "10    1134\n",
       "11     399\n",
       "5      242\n",
       "12      89\n",
       "4       27\n",
       "13      13\n",
       "3        1\n",
       "Name: grade, dtype: int64"
      ]
     },
     "execution_count": 44,
     "metadata": {},
     "output_type": "execute_result"
    }
   ],
   "source": [
    "df['grade'].value_counts()"
   ]
  },
  {
   "cell_type": "markdown",
   "metadata": {},
   "source": [
    "<font color='green'>Let's explore \"yr_built\".</font>"
   ]
  },
  {
   "cell_type": "code",
   "execution_count": 45,
   "metadata": {},
   "outputs": [
    {
     "data": {
      "text/plain": [
       "99"
      ]
     },
     "execution_count": 45,
     "metadata": {},
     "output_type": "execute_result"
    }
   ],
   "source": [
    "df['yr_built'].value_counts().nunique()"
   ]
  },
  {
   "cell_type": "markdown",
   "metadata": {},
   "source": [
    "<font color='green'>There are 99 different values for year built. In reality, there might be very little difference between a building built in 1954 and 1955. Let's simplify this by creating an indicator column for whether the variable is a \"pre-war\" or \"post-war\" building. </font>"
   ]
  },
  {
   "cell_type": "code",
   "execution_count": 46,
   "metadata": {},
   "outputs": [],
   "source": [
    "df['post_war_indicator']=np.where(df['yr_built']>1939,1,0)"
   ]
  },
  {
   "cell_type": "code",
   "execution_count": 47,
   "metadata": {},
   "outputs": [],
   "source": [
    "df=df.drop('yr_built',axis=1)"
   ]
  },
  {
   "cell_type": "markdown",
   "metadata": {},
   "source": [
    "<font color='green'>Let's explore \"yr_renovated\".</font>"
   ]
  },
  {
   "cell_type": "code",
   "execution_count": 48,
   "metadata": {},
   "outputs": [
    {
     "data": {
      "text/plain": [
       "0.0       20853\n",
       "2014.0       73\n",
       "2003.0       31\n",
       "2013.0       31\n",
       "2007.0       30\n",
       "2000.0       29\n",
       "2005.0       29\n",
       "1990.0       22\n",
       "2004.0       22\n",
       "2009.0       21\n",
       "1989.0       20\n",
       "2006.0       20\n",
       "2002.0       17\n",
       "1991.0       16\n",
       "1998.0       16\n",
       "1984.0       16\n",
       "1999.0       15\n",
       "2008.0       15\n",
       "2010.0       15\n",
       "2001.0       15\n",
       "1983.0       15\n",
       "2015.0       14\n",
       "1985.0       14\n",
       "1986.0       14\n",
       "1987.0       14\n",
       "1994.0       14\n",
       "1992.0       13\n",
       "1993.0       12\n",
       "1997.0       12\n",
       "1995.0       12\n",
       "          ...  \n",
       "1975.0        5\n",
       "1964.0        5\n",
       "1969.0        4\n",
       "1963.0        4\n",
       "1973.0        4\n",
       "1981.0        4\n",
       "1965.0        4\n",
       "1978.0        3\n",
       "1960.0        3\n",
       "1958.0        3\n",
       "1956.0        3\n",
       "1955.0        3\n",
       "1945.0        3\n",
       "1972.0        3\n",
       "1967.0        2\n",
       "1957.0        2\n",
       "1940.0        2\n",
       "1974.0        2\n",
       "1962.0        2\n",
       "1953.0        1\n",
       "1950.0        1\n",
       "1934.0        1\n",
       "1944.0        1\n",
       "1976.0        1\n",
       "1948.0        1\n",
       "1946.0        1\n",
       "1959.0        1\n",
       "1971.0        1\n",
       "1951.0        1\n",
       "1954.0        1\n",
       "Name: yr_renovated, Length: 70, dtype: int64"
      ]
     },
     "execution_count": 48,
     "metadata": {},
     "output_type": "execute_result"
    }
   ],
   "source": [
    "df['yr_renovated'].value_counts()"
   ]
  },
  {
   "cell_type": "markdown",
   "metadata": {},
   "source": [
    "<font color='green'>There are 70 different values for year renovated. In reality, there might be very little difference between a building renovated in 2000 and 2001. Let's simplify this by creating an indicator column for whether the variable is recently renovated. This is a little bit subjective, let's say anything renovated in 2000 or later is \"recently renovated\".</font>"
   ]
  },
  {
   "cell_type": "code",
   "execution_count": 49,
   "metadata": {},
   "outputs": [],
   "source": [
    "df['renovated_indicator']=np.where(df['yr_renovated']>1999,1,0)"
   ]
  },
  {
   "cell_type": "code",
   "execution_count": 50,
   "metadata": {},
   "outputs": [],
   "source": [
    "df=df.drop('yr_renovated',axis=1)"
   ]
  },
  {
   "cell_type": "markdown",
   "metadata": {},
   "source": [
    "<font color='green'>Let's look at square footage columns.</font>"
   ]
  },
  {
   "cell_type": "code",
   "execution_count": 51,
   "metadata": {},
   "outputs": [
    {
     "data": {
      "text/plain": [
       "Text(0.5, 1.0, 'Sqft_Living Histogram')"
      ]
     },
     "execution_count": 51,
     "metadata": {},
     "output_type": "execute_result"
    },
    {
     "data": {
      "image/png": "[encoded data removed]",
      "text/plain": [
       "<Figure size 432x432 with 1 Axes>"
      ]
     },
     "metadata": {
      "needs_background": "light"
     },
     "output_type": "display_data"
    }
   ],
   "source": [
    "df['sqft_living'].hist(figsize=(6,6),bins=20)\n",
    "plt.xlabel('Value')\n",
    "plt.ylabel('Count')\n",
    "plt.title('Sqft_Living Histogram')"
   ]
  },
  {
   "cell_type": "code",
   "execution_count": 52,
   "metadata": {},
   "outputs": [
    {
     "data": {
      "text/plain": [
       "Text(0.5, 1.0, 'Sqft_Lot Histogram')"
      ]
     },
     "execution_count": 52,
     "metadata": {},
     "output_type": "execute_result"
    },
    {
     "data": {
      "image/png": "[encoded data removed]",
      "text/plain": [
       "<Figure size 432x432 with 1 Axes>"
      ]
     },
     "metadata": {
      "needs_background": "light"
     },
     "output_type": "display_data"
    }
   ],
   "source": [
    "df['sqft_lot'].hist(figsize=(6,6),bins=20)\n",
    "plt.xlabel('Value')\n",
    "plt.ylabel('Count')\n",
    "plt.title('Sqft_Lot Histogram')"
   ]
  },
  {
   "cell_type": "code",
   "execution_count": 53,
   "metadata": {},
   "outputs": [],
   "source": [
    "df_sqft=df[['sqft_living','sqft_lot','sqft_above','sqft_basement','sqft_living15','sqft_lot15']]"
   ]
  },
  {
   "cell_type": "code",
   "execution_count": 54,
   "metadata": {},
   "outputs": [
    {
     "data": {
      "text/html": [
       "<div>\n",
       "<style scoped>\n",
       "    .dataframe tbody tr th:only-of-type {\n",
       "        vertical-align: middle;\n",
       "    }\n",
       "\n",
       "    .dataframe tbody tr th {\n",
       "        vertical-align: top;\n",
       "    }\n",
       "\n",
       "    .dataframe thead th {\n",
       "        text-align: right;\n",
       "    }\n",
       "</style>\n",
       "<table border=\"1\" class=\"dataframe\">\n",
       "  <thead>\n",
       "    <tr style=\"text-align: right;\">\n",
       "      <th></th>\n",
       "      <th>sqft_living</th>\n",
       "      <th>sqft_lot</th>\n",
       "      <th>sqft_above</th>\n",
       "      <th>sqft_basement</th>\n",
       "      <th>sqft_living15</th>\n",
       "      <th>sqft_lot15</th>\n",
       "    </tr>\n",
       "    <tr>\n",
       "      <th>id</th>\n",
       "      <th></th>\n",
       "      <th></th>\n",
       "      <th></th>\n",
       "      <th></th>\n",
       "      <th></th>\n",
       "      <th></th>\n",
       "    </tr>\n",
       "  </thead>\n",
       "  <tbody>\n",
       "    <tr>\n",
       "      <th>7129300520</th>\n",
       "      <td>1180</td>\n",
       "      <td>5650</td>\n",
       "      <td>1180</td>\n",
       "      <td>0.0</td>\n",
       "      <td>1340</td>\n",
       "      <td>5650</td>\n",
       "    </tr>\n",
       "    <tr>\n",
       "      <th>6414100192</th>\n",
       "      <td>2570</td>\n",
       "      <td>7242</td>\n",
       "      <td>2170</td>\n",
       "      <td>400.0</td>\n",
       "      <td>1690</td>\n",
       "      <td>7639</td>\n",
       "    </tr>\n",
       "    <tr>\n",
       "      <th>5631500400</th>\n",
       "      <td>770</td>\n",
       "      <td>10000</td>\n",
       "      <td>770</td>\n",
       "      <td>0.0</td>\n",
       "      <td>2720</td>\n",
       "      <td>8062</td>\n",
       "    </tr>\n",
       "  </tbody>\n",
       "</table>\n",
       "</div>"
      ],
      "text/plain": [
       "            sqft_living  sqft_lot  sqft_above sqft_basement  sqft_living15  \\\n",
       "id                                                                           \n",
       "7129300520         1180      5650        1180           0.0           1340   \n",
       "6414100192         2570      7242        2170         400.0           1690   \n",
       "5631500400          770     10000         770           0.0           2720   \n",
       "\n",
       "            sqft_lot15  \n",
       "id                      \n",
       "7129300520        5650  \n",
       "6414100192        7639  \n",
       "5631500400        8062  "
      ]
     },
     "execution_count": 54,
     "metadata": {},
     "output_type": "execute_result"
    }
   ],
   "source": [
    "df_sqft.head(3)"
   ]
  },
  {
   "cell_type": "markdown",
   "metadata": {},
   "source": [
    "<font color='green'>It looks as though sqft_living = sqft_above + sqft_basement. Let's confirm this, and if so we'll remove sqft_living (because the information is fully captured in the other variables, and to avoid multicollinearity).</font>"
   ]
  },
  {
   "cell_type": "code",
   "execution_count": 55,
   "metadata": {},
   "outputs": [
    {
     "data": {
      "text/plain": [
       "0.0      12826\n",
       "?          454\n",
       "600.0      217\n",
       "Name: sqft_basement, dtype: int64"
      ]
     },
     "execution_count": 55,
     "metadata": {},
     "output_type": "execute_result"
    }
   ],
   "source": [
    "df_sqft['sqft_basement'].value_counts().head(3)"
   ]
  },
  {
   "cell_type": "code",
   "execution_count": 56,
   "metadata": {},
   "outputs": [],
   "source": [
    "df['sqft_basement']=df['sqft_living']-df['sqft_above']"
   ]
  },
  {
   "cell_type": "markdown",
   "metadata": {},
   "source": [
    "<font color='green'>Confirm that there are no more ?'s on \"sqft_basement\".</font>"
   ]
  },
  {
   "cell_type": "code",
   "execution_count": 57,
   "metadata": {},
   "outputs": [
    {
     "name": "stderr",
     "output_type": "stream",
     "text": [
      "/Users/evanokin/anaconda3/lib/python3.7/site-packages/pandas/core/ops.py:1649: FutureWarning: elementwise comparison failed; returning scalar instead, but in the future will perform elementwise comparison\n",
      "  result = method(y)\n"
     ]
    },
    {
     "data": {
      "text/html": [
       "<div>\n",
       "<style scoped>\n",
       "    .dataframe tbody tr th:only-of-type {\n",
       "        vertical-align: middle;\n",
       "    }\n",
       "\n",
       "    .dataframe tbody tr th {\n",
       "        vertical-align: top;\n",
       "    }\n",
       "\n",
       "    .dataframe thead th {\n",
       "        text-align: right;\n",
       "    }\n",
       "</style>\n",
       "<table border=\"1\" class=\"dataframe\">\n",
       "  <thead>\n",
       "    <tr style=\"text-align: right;\">\n",
       "      <th></th>\n",
       "      <th>price</th>\n",
       "      <th>bedrooms</th>\n",
       "      <th>bathrooms</th>\n",
       "      <th>sqft_living</th>\n",
       "      <th>sqft_lot</th>\n",
       "      <th>floors</th>\n",
       "      <th>waterfront</th>\n",
       "      <th>view</th>\n",
       "      <th>condition</th>\n",
       "      <th>grade</th>\n",
       "      <th>sqft_above</th>\n",
       "      <th>sqft_basement</th>\n",
       "      <th>sqft_living15</th>\n",
       "      <th>sqft_lot15</th>\n",
       "      <th>post_war_indicator</th>\n",
       "      <th>renovated_indicator</th>\n",
       "    </tr>\n",
       "    <tr>\n",
       "      <th>id</th>\n",
       "      <th></th>\n",
       "      <th></th>\n",
       "      <th></th>\n",
       "      <th></th>\n",
       "      <th></th>\n",
       "      <th></th>\n",
       "      <th></th>\n",
       "      <th></th>\n",
       "      <th></th>\n",
       "      <th></th>\n",
       "      <th></th>\n",
       "      <th></th>\n",
       "      <th></th>\n",
       "      <th></th>\n",
       "      <th></th>\n",
       "      <th></th>\n",
       "    </tr>\n",
       "  </thead>\n",
       "  <tbody>\n",
       "  </tbody>\n",
       "</table>\n",
       "</div>"
      ],
      "text/plain": [
       "Empty DataFrame\n",
       "Columns: [price, bedrooms, bathrooms, sqft_living, sqft_lot, floors, waterfront, view, condition, grade, sqft_above, sqft_basement, sqft_living15, sqft_lot15, post_war_indicator, renovated_indicator]\n",
       "Index: []"
      ]
     },
     "execution_count": 57,
     "metadata": {},
     "output_type": "execute_result"
    }
   ],
   "source": [
    "df.loc[df['sqft_basement']=='?']"
   ]
  },
  {
   "cell_type": "code",
   "execution_count": 58,
   "metadata": {},
   "outputs": [],
   "source": [
    "df=df.drop('sqft_living',axis=1)"
   ]
  },
  {
   "cell_type": "markdown",
   "metadata": {},
   "source": [
    "<font color='green'>The variable \"sqft_lot15\" is the square footage of the land lots of the nearest 15 neighbors. This is likely highly correlated with the \"sqft_lot\" variable. Let's verify and if so, delete the column for the land lots of the nearest 15 neighbors.</font>"
   ]
  },
  {
   "cell_type": "code",
   "execution_count": 59,
   "metadata": {},
   "outputs": [
    {
     "name": "stdout",
     "output_type": "stream",
     "text": [
      "The correlation coefficient between the variables \"sqft_lot\" and \"sqft_lot15\" is 0.72%\n"
     ]
    }
   ],
   "source": [
    "print('The correlation coefficient between the variables \"sqft_lot\" and \"sqft_lot15\" is '\n",
    "      + str(round(np.corrcoef(df['sqft_lot'],df['sqft_lot15'])[0,1],2))+'%')\n",
    "if np.corrcoef(df['sqft_lot'],df['sqft_lot15'])[0,1]>0.50:\n",
    "    df=df.drop('sqft_lot15',axis=1)"
   ]
  },
  {
   "cell_type": "code",
   "execution_count": 60,
   "metadata": {},
   "outputs": [
    {
     "data": {
      "text/html": [
       "<div>\n",
       "<style scoped>\n",
       "    .dataframe tbody tr th:only-of-type {\n",
       "        vertical-align: middle;\n",
       "    }\n",
       "\n",
       "    .dataframe tbody tr th {\n",
       "        vertical-align: top;\n",
       "    }\n",
       "\n",
       "    .dataframe thead th {\n",
       "        text-align: right;\n",
       "    }\n",
       "</style>\n",
       "<table border=\"1\" class=\"dataframe\">\n",
       "  <thead>\n",
       "    <tr style=\"text-align: right;\">\n",
       "      <th></th>\n",
       "      <th>price</th>\n",
       "      <th>bedrooms</th>\n",
       "      <th>bathrooms</th>\n",
       "      <th>sqft_lot</th>\n",
       "      <th>floors</th>\n",
       "      <th>waterfront</th>\n",
       "      <th>view</th>\n",
       "      <th>condition</th>\n",
       "      <th>grade</th>\n",
       "      <th>sqft_above</th>\n",
       "      <th>sqft_basement</th>\n",
       "      <th>sqft_living15</th>\n",
       "      <th>post_war_indicator</th>\n",
       "      <th>renovated_indicator</th>\n",
       "    </tr>\n",
       "  </thead>\n",
       "  <tbody>\n",
       "    <tr>\n",
       "      <th>price</th>\n",
       "      <td>1.000000</td>\n",
       "      <td>0.315954</td>\n",
       "      <td>0.516635</td>\n",
       "      <td>0.089876</td>\n",
       "      <td>0.256804</td>\n",
       "      <td>0.264306</td>\n",
       "      <td>0.393497</td>\n",
       "      <td>0.036056</td>\n",
       "      <td>0.667951</td>\n",
       "      <td>0.605368</td>\n",
       "      <td>0.323799</td>\n",
       "      <td>0.585241</td>\n",
       "      <td>-0.070532</td>\n",
       "      <td>0.106004</td>\n",
       "    </tr>\n",
       "    <tr>\n",
       "      <th>bedrooms</th>\n",
       "      <td>0.315954</td>\n",
       "      <td>1.000000</td>\n",
       "      <td>0.529812</td>\n",
       "      <td>0.033606</td>\n",
       "      <td>0.183721</td>\n",
       "      <td>-0.002053</td>\n",
       "      <td>0.080747</td>\n",
       "      <td>0.023390</td>\n",
       "      <td>0.366181</td>\n",
       "      <td>0.492549</td>\n",
       "      <td>0.309244</td>\n",
       "      <td>0.404540</td>\n",
       "      <td>0.103072</td>\n",
       "      <td>0.033967</td>\n",
       "    </tr>\n",
       "    <tr>\n",
       "      <th>bathrooms</th>\n",
       "      <td>0.516635</td>\n",
       "      <td>0.529812</td>\n",
       "      <td>1.000000</td>\n",
       "      <td>0.088745</td>\n",
       "      <td>0.463986</td>\n",
       "      <td>0.064885</td>\n",
       "      <td>0.188103</td>\n",
       "      <td>-0.110984</td>\n",
       "      <td>0.648023</td>\n",
       "      <td>0.671168</td>\n",
       "      <td>0.295020</td>\n",
       "      <td>0.561429</td>\n",
       "      <td>0.213763</td>\n",
       "      <td>0.064886</td>\n",
       "    </tr>\n",
       "    <tr>\n",
       "      <th>sqft_lot</th>\n",
       "      <td>0.089876</td>\n",
       "      <td>0.033606</td>\n",
       "      <td>0.088745</td>\n",
       "      <td>1.000000</td>\n",
       "      <td>-0.004814</td>\n",
       "      <td>0.021459</td>\n",
       "      <td>0.075054</td>\n",
       "      <td>-0.008830</td>\n",
       "      <td>0.114731</td>\n",
       "      <td>0.184139</td>\n",
       "      <td>0.015418</td>\n",
       "      <td>0.144763</td>\n",
       "      <td>0.051213</td>\n",
       "      <td>-0.013414</td>\n",
       "    </tr>\n",
       "    <tr>\n",
       "      <th>floors</th>\n",
       "      <td>0.256804</td>\n",
       "      <td>0.183721</td>\n",
       "      <td>0.463986</td>\n",
       "      <td>-0.004814</td>\n",
       "      <td>1.000000</td>\n",
       "      <td>0.020797</td>\n",
       "      <td>0.028414</td>\n",
       "      <td>-0.264075</td>\n",
       "      <td>0.458794</td>\n",
       "      <td>0.523989</td>\n",
       "      <td>-0.245715</td>\n",
       "      <td>0.280102</td>\n",
       "      <td>0.071448</td>\n",
       "      <td>0.004076</td>\n",
       "    </tr>\n",
       "    <tr>\n",
       "      <th>waterfront</th>\n",
       "      <td>0.264306</td>\n",
       "      <td>-0.002053</td>\n",
       "      <td>0.064885</td>\n",
       "      <td>0.021459</td>\n",
       "      <td>0.020797</td>\n",
       "      <td>1.000000</td>\n",
       "      <td>0.380543</td>\n",
       "      <td>0.016648</td>\n",
       "      <td>0.082818</td>\n",
       "      <td>0.071778</td>\n",
       "      <td>0.082800</td>\n",
       "      <td>0.083823</td>\n",
       "      <td>-0.020045</td>\n",
       "      <td>0.014795</td>\n",
       "    </tr>\n",
       "    <tr>\n",
       "      <th>view</th>\n",
       "      <td>0.393497</td>\n",
       "      <td>0.080747</td>\n",
       "      <td>0.188103</td>\n",
       "      <td>0.075054</td>\n",
       "      <td>0.028414</td>\n",
       "      <td>0.380543</td>\n",
       "      <td>1.000000</td>\n",
       "      <td>0.045622</td>\n",
       "      <td>0.249082</td>\n",
       "      <td>0.166017</td>\n",
       "      <td>0.273845</td>\n",
       "      <td>0.278928</td>\n",
       "      <td>-0.040090</td>\n",
       "      <td>0.039026</td>\n",
       "    </tr>\n",
       "    <tr>\n",
       "      <th>condition</th>\n",
       "      <td>0.036056</td>\n",
       "      <td>0.023390</td>\n",
       "      <td>-0.110984</td>\n",
       "      <td>-0.008830</td>\n",
       "      <td>-0.264075</td>\n",
       "      <td>0.016648</td>\n",
       "      <td>0.045622</td>\n",
       "      <td>1.000000</td>\n",
       "      <td>-0.146896</td>\n",
       "      <td>-0.158904</td>\n",
       "      <td>0.173849</td>\n",
       "      <td>-0.093072</td>\n",
       "      <td>-0.179568</td>\n",
       "      <td>-0.072814</td>\n",
       "    </tr>\n",
       "    <tr>\n",
       "      <th>grade</th>\n",
       "      <td>0.667951</td>\n",
       "      <td>0.366181</td>\n",
       "      <td>0.648023</td>\n",
       "      <td>0.114731</td>\n",
       "      <td>0.458794</td>\n",
       "      <td>0.082818</td>\n",
       "      <td>0.249082</td>\n",
       "      <td>-0.146896</td>\n",
       "      <td>1.000000</td>\n",
       "      <td>0.756073</td>\n",
       "      <td>0.168220</td>\n",
       "      <td>0.713867</td>\n",
       "      <td>0.204366</td>\n",
       "      <td>0.035664</td>\n",
       "    </tr>\n",
       "    <tr>\n",
       "      <th>sqft_above</th>\n",
       "      <td>0.605368</td>\n",
       "      <td>0.492549</td>\n",
       "      <td>0.671168</td>\n",
       "      <td>0.184139</td>\n",
       "      <td>0.523989</td>\n",
       "      <td>0.071778</td>\n",
       "      <td>0.166017</td>\n",
       "      <td>-0.158904</td>\n",
       "      <td>0.756073</td>\n",
       "      <td>1.000000</td>\n",
       "      <td>-0.052156</td>\n",
       "      <td>0.731767</td>\n",
       "      <td>0.173736</td>\n",
       "      <td>0.015921</td>\n",
       "    </tr>\n",
       "    <tr>\n",
       "      <th>sqft_basement</th>\n",
       "      <td>0.323799</td>\n",
       "      <td>0.309244</td>\n",
       "      <td>0.295020</td>\n",
       "      <td>0.015418</td>\n",
       "      <td>-0.245715</td>\n",
       "      <td>0.082800</td>\n",
       "      <td>0.273845</td>\n",
       "      <td>0.173849</td>\n",
       "      <td>0.168220</td>\n",
       "      <td>-0.052156</td>\n",
       "      <td>1.000000</td>\n",
       "      <td>0.200443</td>\n",
       "      <td>-0.039700</td>\n",
       "      <td>0.076077</td>\n",
       "    </tr>\n",
       "    <tr>\n",
       "      <th>sqft_living15</th>\n",
       "      <td>0.585241</td>\n",
       "      <td>0.404540</td>\n",
       "      <td>0.561429</td>\n",
       "      <td>0.144763</td>\n",
       "      <td>0.280102</td>\n",
       "      <td>0.083823</td>\n",
       "      <td>0.278928</td>\n",
       "      <td>-0.093072</td>\n",
       "      <td>0.713867</td>\n",
       "      <td>0.731767</td>\n",
       "      <td>0.200443</td>\n",
       "      <td>1.000000</td>\n",
       "      <td>0.165251</td>\n",
       "      <td>-0.000939</td>\n",
       "    </tr>\n",
       "    <tr>\n",
       "      <th>post_war_indicator</th>\n",
       "      <td>-0.070532</td>\n",
       "      <td>0.103072</td>\n",
       "      <td>0.213763</td>\n",
       "      <td>0.051213</td>\n",
       "      <td>0.071448</td>\n",
       "      <td>-0.020045</td>\n",
       "      <td>-0.040090</td>\n",
       "      <td>-0.179568</td>\n",
       "      <td>0.204366</td>\n",
       "      <td>0.173736</td>\n",
       "      <td>-0.039700</td>\n",
       "      <td>0.165251</td>\n",
       "      <td>1.000000</td>\n",
       "      <td>-0.092982</td>\n",
       "    </tr>\n",
       "    <tr>\n",
       "      <th>renovated_indicator</th>\n",
       "      <td>0.106004</td>\n",
       "      <td>0.033967</td>\n",
       "      <td>0.064886</td>\n",
       "      <td>-0.013414</td>\n",
       "      <td>0.004076</td>\n",
       "      <td>0.014795</td>\n",
       "      <td>0.039026</td>\n",
       "      <td>-0.072814</td>\n",
       "      <td>0.035664</td>\n",
       "      <td>0.015921</td>\n",
       "      <td>0.076077</td>\n",
       "      <td>-0.000939</td>\n",
       "      <td>-0.092982</td>\n",
       "      <td>1.000000</td>\n",
       "    </tr>\n",
       "  </tbody>\n",
       "</table>\n",
       "</div>"
      ],
      "text/plain": [
       "                        price  bedrooms  bathrooms  sqft_lot    floors  \\\n",
       "price                1.000000  0.315954   0.516635  0.089876  0.256804   \n",
       "bedrooms             0.315954  1.000000   0.529812  0.033606  0.183721   \n",
       "bathrooms            0.516635  0.529812   1.000000  0.088745  0.463986   \n",
       "sqft_lot             0.089876  0.033606   0.088745  1.000000 -0.004814   \n",
       "floors               0.256804  0.183721   0.463986 -0.004814  1.000000   \n",
       "waterfront           0.264306 -0.002053   0.064885  0.021459  0.020797   \n",
       "view                 0.393497  0.080747   0.188103  0.075054  0.028414   \n",
       "condition            0.036056  0.023390  -0.110984 -0.008830 -0.264075   \n",
       "grade                0.667951  0.366181   0.648023  0.114731  0.458794   \n",
       "sqft_above           0.605368  0.492549   0.671168  0.184139  0.523989   \n",
       "sqft_basement        0.323799  0.309244   0.295020  0.015418 -0.245715   \n",
       "sqft_living15        0.585241  0.404540   0.561429  0.144763  0.280102   \n",
       "post_war_indicator  -0.070532  0.103072   0.213763  0.051213  0.071448   \n",
       "renovated_indicator  0.106004  0.033967   0.064886 -0.013414  0.004076   \n",
       "\n",
       "                     waterfront      view  condition     grade  sqft_above  \\\n",
       "price                  0.264306  0.393497   0.036056  0.667951    0.605368   \n",
       "bedrooms              -0.002053  0.080747   0.023390  0.366181    0.492549   \n",
       "bathrooms              0.064885  0.188103  -0.110984  0.648023    0.671168   \n",
       "sqft_lot               0.021459  0.075054  -0.008830  0.114731    0.184139   \n",
       "floors                 0.020797  0.028414  -0.264075  0.458794    0.523989   \n",
       "waterfront             1.000000  0.380543   0.016648  0.082818    0.071778   \n",
       "view                   0.380543  1.000000   0.045622  0.249082    0.166017   \n",
       "condition              0.016648  0.045622   1.000000 -0.146896   -0.158904   \n",
       "grade                  0.082818  0.249082  -0.146896  1.000000    0.756073   \n",
       "sqft_above             0.071778  0.166017  -0.158904  0.756073    1.000000   \n",
       "sqft_basement          0.082800  0.273845   0.173849  0.168220   -0.052156   \n",
       "sqft_living15          0.083823  0.278928  -0.093072  0.713867    0.731767   \n",
       "post_war_indicator    -0.020045 -0.040090  -0.179568  0.204366    0.173736   \n",
       "renovated_indicator    0.014795  0.039026  -0.072814  0.035664    0.015921   \n",
       "\n",
       "                     sqft_basement  sqft_living15  post_war_indicator  \\\n",
       "price                     0.323799       0.585241           -0.070532   \n",
       "bedrooms                  0.309244       0.404540            0.103072   \n",
       "bathrooms                 0.295020       0.561429            0.213763   \n",
       "sqft_lot                  0.015418       0.144763            0.051213   \n",
       "floors                   -0.245715       0.280102            0.071448   \n",
       "waterfront                0.082800       0.083823           -0.020045   \n",
       "view                      0.273845       0.278928           -0.040090   \n",
       "condition                 0.173849      -0.093072           -0.179568   \n",
       "grade                     0.168220       0.713867            0.204366   \n",
       "sqft_above               -0.052156       0.731767            0.173736   \n",
       "sqft_basement             1.000000       0.200443           -0.039700   \n",
       "sqft_living15             0.200443       1.000000            0.165251   \n",
       "post_war_indicator       -0.039700       0.165251            1.000000   \n",
       "renovated_indicator       0.076077      -0.000939           -0.092982   \n",
       "\n",
       "                     renovated_indicator  \n",
       "price                           0.106004  \n",
       "bedrooms                        0.033967  \n",
       "bathrooms                       0.064886  \n",
       "sqft_lot                       -0.013414  \n",
       "floors                          0.004076  \n",
       "waterfront                      0.014795  \n",
       "view                            0.039026  \n",
       "condition                      -0.072814  \n",
       "grade                           0.035664  \n",
       "sqft_above                      0.015921  \n",
       "sqft_basement                   0.076077  \n",
       "sqft_living15                  -0.000939  \n",
       "post_war_indicator             -0.092982  \n",
       "renovated_indicator             1.000000  "
      ]
     },
     "execution_count": 60,
     "metadata": {},
     "output_type": "execute_result"
    }
   ],
   "source": [
    "df.corr()"
   ]
  },
  {
   "cell_type": "code",
   "execution_count": 61,
   "metadata": {},
   "outputs": [
    {
     "data": {
      "text/plain": [
       "Text(0.5, 1.0, 'Correlation Heatmap')"
      ]
     },
     "execution_count": 61,
     "metadata": {},
     "output_type": "execute_result"
    },
    {
     "data": {
      "image/png": "[encoded data removed]",
      "text/plain": [
       "<Figure size 720x720 with 2 Axes>"
      ]
     },
     "metadata": {
      "needs_background": "light"
     },
     "output_type": "display_data"
    }
   ],
   "source": [
    "import seaborn as sns\n",
    "corr=df.corr()\n",
    "plt.figure(figsize=(10,10))\n",
    "sns.heatmap(round(corr,2),annot=True)\n",
    "corr.style.background_gradient(cmap='coolwarm')\n",
    "plt.title('Correlation Heatmap',fontweight='bold',fontsize=15)"
   ]
  },
  {
   "cell_type": "markdown",
   "metadata": {},
   "source": [
    "<font color='green'>We can also see that the variable \"sqft_living15\" is likely highly correlated with the \"sqft_above\" variable, and delete it.</font>"
   ]
  },
  {
   "cell_type": "code",
   "execution_count": 62,
   "metadata": {},
   "outputs": [],
   "source": [
    "df.drop('sqft_living15',axis=1,inplace=True)"
   ]
  },
  {
   "cell_type": "markdown",
   "metadata": {},
   "source": [
    "<font color='green'>This is our \"first draft\" cleaned up dataframe. We will have to do some work to make our variables more suited for regression (such as turning categorical variables into dummy variables), but we've dealt with missing values, removed outliers, and got rid of unnecessary columns. </font>"
   ]
  },
  {
   "cell_type": "markdown",
   "metadata": {},
   "source": [
    "<font color='green'>We can save our dataframe to a csv file. </font>"
   ]
  },
  {
   "cell_type": "code",
   "execution_count": 63,
   "metadata": {},
   "outputs": [],
   "source": [
    "df.to_csv('Cleaned_Data_KMC_Housing.csv')"
   ]
  },
  {
   "cell_type": "markdown",
   "metadata": {},
   "source": [
    "<font color='green'>Let's visualize \"grade\" against \"price\".</font>"
   ]
  },
  {
   "cell_type": "code",
   "execution_count": 64,
   "metadata": {},
   "outputs": [
    {
     "data": {
      "text/plain": [
       "Text(0.5, 1.0, 'Scatter of Grade vs. Price')"
      ]
     },
     "execution_count": 64,
     "metadata": {},
     "output_type": "execute_result"
    },
    {
     "data": {
      "image/png": "[encoded data removed]",
      "text/plain": [
       "<Figure size 432x288 with 1 Axes>"
      ]
     },
     "metadata": {
      "needs_background": "light"
     },
     "output_type": "display_data"
    }
   ],
   "source": [
    "df.plot.scatter('grade','price')\n",
    "plt.title('Scatter of Grade vs. Price')"
   ]
  },
  {
   "cell_type": "markdown",
   "metadata": {},
   "source": [
    "<font color='green'>Let's observe 99th percentile of values to make sure that there doesn't seem to be anything crazy going on.</font>"
   ]
  },
  {
   "cell_type": "code",
   "execution_count": 65,
   "metadata": {},
   "outputs": [
    {
     "data": {
      "text/plain": [
       "price                  1970000.0\n",
       "bedrooms                     6.0\n",
       "bathrooms                    4.0\n",
       "sqft_lot                213008.0\n",
       "floors                       3.0\n",
       "waterfront                   0.0\n",
       "view                         4.0\n",
       "condition                    5.0\n",
       "grade                       11.0\n",
       "sqft_above                4370.0\n",
       "sqft_basement             1660.0\n",
       "post_war_indicator           1.0\n",
       "renovated_indicator          1.0\n",
       "Name: 0.99, dtype: float64"
      ]
     },
     "execution_count": 65,
     "metadata": {},
     "output_type": "execute_result"
    }
   ],
   "source": [
    "df.quantile(q=.99)"
   ]
  },
  {
   "cell_type": "markdown",
   "metadata": {},
   "source": [
    "<font color='green'>Luckily, nothing jumps out as unreasonable.</font>"
   ]
  },
  {
   "cell_type": "markdown",
   "metadata": {},
   "source": [
    "<font color='green'>Let's use grouping to analyze mean price by various variables.</font>"
   ]
  },
  {
   "cell_type": "code",
   "execution_count": 66,
   "metadata": {},
   "outputs": [
    {
     "data": {
      "text/html": [
       "<div>\n",
       "<style scoped>\n",
       "    .dataframe tbody tr th:only-of-type {\n",
       "        vertical-align: middle;\n",
       "    }\n",
       "\n",
       "    .dataframe tbody tr th {\n",
       "        vertical-align: top;\n",
       "    }\n",
       "\n",
       "    .dataframe thead th {\n",
       "        text-align: right;\n",
       "    }\n",
       "</style>\n",
       "<table border=\"1\" class=\"dataframe\">\n",
       "  <thead>\n",
       "    <tr style=\"text-align: right;\">\n",
       "      <th></th>\n",
       "      <th>grade</th>\n",
       "      <th>floors</th>\n",
       "      <th>price</th>\n",
       "    </tr>\n",
       "  </thead>\n",
       "  <tbody>\n",
       "    <tr>\n",
       "      <th>0</th>\n",
       "      <td>3</td>\n",
       "      <td>1.0</td>\n",
       "      <td>2.620000e+05</td>\n",
       "    </tr>\n",
       "    <tr>\n",
       "      <th>1</th>\n",
       "      <td>4</td>\n",
       "      <td>1.0</td>\n",
       "      <td>2.137620e+05</td>\n",
       "    </tr>\n",
       "    <tr>\n",
       "      <th>2</th>\n",
       "      <td>4</td>\n",
       "      <td>1.5</td>\n",
       "      <td>1.900000e+05</td>\n",
       "    </tr>\n",
       "    <tr>\n",
       "      <th>3</th>\n",
       "      <td>5</td>\n",
       "      <td>1.0</td>\n",
       "      <td>2.444255e+05</td>\n",
       "    </tr>\n",
       "    <tr>\n",
       "      <th>4</th>\n",
       "      <td>5</td>\n",
       "      <td>1.5</td>\n",
       "      <td>2.703643e+05</td>\n",
       "    </tr>\n",
       "    <tr>\n",
       "      <th>5</th>\n",
       "      <td>5</td>\n",
       "      <td>2.0</td>\n",
       "      <td>2.475000e+05</td>\n",
       "    </tr>\n",
       "    <tr>\n",
       "      <th>6</th>\n",
       "      <td>6</td>\n",
       "      <td>1.0</td>\n",
       "      <td>2.944102e+05</td>\n",
       "    </tr>\n",
       "    <tr>\n",
       "      <th>7</th>\n",
       "      <td>6</td>\n",
       "      <td>1.5</td>\n",
       "      <td>3.415126e+05</td>\n",
       "    </tr>\n",
       "    <tr>\n",
       "      <th>8</th>\n",
       "      <td>6</td>\n",
       "      <td>2.0</td>\n",
       "      <td>3.025907e+05</td>\n",
       "    </tr>\n",
       "    <tr>\n",
       "      <th>9</th>\n",
       "      <td>6</td>\n",
       "      <td>2.5</td>\n",
       "      <td>3.612500e+05</td>\n",
       "    </tr>\n",
       "    <tr>\n",
       "      <th>10</th>\n",
       "      <td>7</td>\n",
       "      <td>1.0</td>\n",
       "      <td>3.906018e+05</td>\n",
       "    </tr>\n",
       "    <tr>\n",
       "      <th>11</th>\n",
       "      <td>7</td>\n",
       "      <td>1.5</td>\n",
       "      <td>5.039040e+05</td>\n",
       "    </tr>\n",
       "    <tr>\n",
       "      <th>12</th>\n",
       "      <td>7</td>\n",
       "      <td>2.0</td>\n",
       "      <td>3.871551e+05</td>\n",
       "    </tr>\n",
       "    <tr>\n",
       "      <th>13</th>\n",
       "      <td>7</td>\n",
       "      <td>2.5</td>\n",
       "      <td>5.166133e+05</td>\n",
       "    </tr>\n",
       "    <tr>\n",
       "      <th>14</th>\n",
       "      <td>7</td>\n",
       "      <td>3.0</td>\n",
       "      <td>3.748155e+05</td>\n",
       "    </tr>\n",
       "    <tr>\n",
       "      <th>15</th>\n",
       "      <td>8</td>\n",
       "      <td>1.0</td>\n",
       "      <td>5.528289e+05</td>\n",
       "    </tr>\n",
       "    <tr>\n",
       "      <th>16</th>\n",
       "      <td>8</td>\n",
       "      <td>1.5</td>\n",
       "      <td>6.968415e+05</td>\n",
       "    </tr>\n",
       "    <tr>\n",
       "      <th>17</th>\n",
       "      <td>8</td>\n",
       "      <td>2.0</td>\n",
       "      <td>5.192640e+05</td>\n",
       "    </tr>\n",
       "    <tr>\n",
       "      <th>18</th>\n",
       "      <td>8</td>\n",
       "      <td>2.5</td>\n",
       "      <td>6.439031e+05</td>\n",
       "    </tr>\n",
       "    <tr>\n",
       "      <th>19</th>\n",
       "      <td>8</td>\n",
       "      <td>3.0</td>\n",
       "      <td>4.957758e+05</td>\n",
       "    </tr>\n",
       "    <tr>\n",
       "      <th>20</th>\n",
       "      <td>8</td>\n",
       "      <td>3.5</td>\n",
       "      <td>5.119167e+05</td>\n",
       "    </tr>\n",
       "    <tr>\n",
       "      <th>21</th>\n",
       "      <td>9</td>\n",
       "      <td>1.0</td>\n",
       "      <td>8.567847e+05</td>\n",
       "    </tr>\n",
       "    <tr>\n",
       "      <th>22</th>\n",
       "      <td>9</td>\n",
       "      <td>1.5</td>\n",
       "      <td>9.511873e+05</td>\n",
       "    </tr>\n",
       "    <tr>\n",
       "      <th>23</th>\n",
       "      <td>9</td>\n",
       "      <td>2.0</td>\n",
       "      <td>7.403360e+05</td>\n",
       "    </tr>\n",
       "    <tr>\n",
       "      <th>24</th>\n",
       "      <td>9</td>\n",
       "      <td>2.5</td>\n",
       "      <td>9.408522e+05</td>\n",
       "    </tr>\n",
       "    <tr>\n",
       "      <th>25</th>\n",
       "      <td>9</td>\n",
       "      <td>3.0</td>\n",
       "      <td>7.882767e+05</td>\n",
       "    </tr>\n",
       "    <tr>\n",
       "      <th>26</th>\n",
       "      <td>10</td>\n",
       "      <td>1.0</td>\n",
       "      <td>1.162096e+06</td>\n",
       "    </tr>\n",
       "    <tr>\n",
       "      <th>27</th>\n",
       "      <td>10</td>\n",
       "      <td>1.5</td>\n",
       "      <td>1.272261e+06</td>\n",
       "    </tr>\n",
       "    <tr>\n",
       "      <th>28</th>\n",
       "      <td>10</td>\n",
       "      <td>2.0</td>\n",
       "      <td>1.033759e+06</td>\n",
       "    </tr>\n",
       "    <tr>\n",
       "      <th>29</th>\n",
       "      <td>10</td>\n",
       "      <td>2.5</td>\n",
       "      <td>1.539812e+06</td>\n",
       "    </tr>\n",
       "    <tr>\n",
       "      <th>30</th>\n",
       "      <td>10</td>\n",
       "      <td>3.0</td>\n",
       "      <td>1.194991e+06</td>\n",
       "    </tr>\n",
       "    <tr>\n",
       "      <th>31</th>\n",
       "      <td>11</td>\n",
       "      <td>1.0</td>\n",
       "      <td>1.603382e+06</td>\n",
       "    </tr>\n",
       "    <tr>\n",
       "      <th>32</th>\n",
       "      <td>11</td>\n",
       "      <td>1.5</td>\n",
       "      <td>1.768182e+06</td>\n",
       "    </tr>\n",
       "    <tr>\n",
       "      <th>33</th>\n",
       "      <td>11</td>\n",
       "      <td>2.0</td>\n",
       "      <td>1.458615e+06</td>\n",
       "    </tr>\n",
       "    <tr>\n",
       "      <th>34</th>\n",
       "      <td>11</td>\n",
       "      <td>2.5</td>\n",
       "      <td>1.915107e+06</td>\n",
       "    </tr>\n",
       "    <tr>\n",
       "      <th>35</th>\n",
       "      <td>11</td>\n",
       "      <td>3.0</td>\n",
       "      <td>1.512353e+06</td>\n",
       "    </tr>\n",
       "    <tr>\n",
       "      <th>36</th>\n",
       "      <td>12</td>\n",
       "      <td>1.0</td>\n",
       "      <td>2.169091e+06</td>\n",
       "    </tr>\n",
       "    <tr>\n",
       "      <th>37</th>\n",
       "      <td>12</td>\n",
       "      <td>2.0</td>\n",
       "      <td>2.188380e+06</td>\n",
       "    </tr>\n",
       "    <tr>\n",
       "      <th>38</th>\n",
       "      <td>12</td>\n",
       "      <td>2.5</td>\n",
       "      <td>2.360000e+06</td>\n",
       "    </tr>\n",
       "    <tr>\n",
       "      <th>39</th>\n",
       "      <td>12</td>\n",
       "      <td>3.0</td>\n",
       "      <td>2.192500e+06</td>\n",
       "    </tr>\n",
       "    <tr>\n",
       "      <th>40</th>\n",
       "      <td>12</td>\n",
       "      <td>3.5</td>\n",
       "      <td>3.300000e+06</td>\n",
       "    </tr>\n",
       "    <tr>\n",
       "      <th>41</th>\n",
       "      <td>13</td>\n",
       "      <td>1.0</td>\n",
       "      <td>3.070000e+06</td>\n",
       "    </tr>\n",
       "    <tr>\n",
       "      <th>42</th>\n",
       "      <td>13</td>\n",
       "      <td>2.0</td>\n",
       "      <td>3.590000e+06</td>\n",
       "    </tr>\n",
       "    <tr>\n",
       "      <th>43</th>\n",
       "      <td>13</td>\n",
       "      <td>2.5</td>\n",
       "      <td>4.460000e+06</td>\n",
       "    </tr>\n",
       "  </tbody>\n",
       "</table>\n",
       "</div>"
      ],
      "text/plain": [
       "    grade  floors         price\n",
       "0       3     1.0  2.620000e+05\n",
       "1       4     1.0  2.137620e+05\n",
       "2       4     1.5  1.900000e+05\n",
       "3       5     1.0  2.444255e+05\n",
       "4       5     1.5  2.703643e+05\n",
       "5       5     2.0  2.475000e+05\n",
       "6       6     1.0  2.944102e+05\n",
       "7       6     1.5  3.415126e+05\n",
       "8       6     2.0  3.025907e+05\n",
       "9       6     2.5  3.612500e+05\n",
       "10      7     1.0  3.906018e+05\n",
       "11      7     1.5  5.039040e+05\n",
       "12      7     2.0  3.871551e+05\n",
       "13      7     2.5  5.166133e+05\n",
       "14      7     3.0  3.748155e+05\n",
       "15      8     1.0  5.528289e+05\n",
       "16      8     1.5  6.968415e+05\n",
       "17      8     2.0  5.192640e+05\n",
       "18      8     2.5  6.439031e+05\n",
       "19      8     3.0  4.957758e+05\n",
       "20      8     3.5  5.119167e+05\n",
       "21      9     1.0  8.567847e+05\n",
       "22      9     1.5  9.511873e+05\n",
       "23      9     2.0  7.403360e+05\n",
       "24      9     2.5  9.408522e+05\n",
       "25      9     3.0  7.882767e+05\n",
       "26     10     1.0  1.162096e+06\n",
       "27     10     1.5  1.272261e+06\n",
       "28     10     2.0  1.033759e+06\n",
       "29     10     2.5  1.539812e+06\n",
       "30     10     3.0  1.194991e+06\n",
       "31     11     1.0  1.603382e+06\n",
       "32     11     1.5  1.768182e+06\n",
       "33     11     2.0  1.458615e+06\n",
       "34     11     2.5  1.915107e+06\n",
       "35     11     3.0  1.512353e+06\n",
       "36     12     1.0  2.169091e+06\n",
       "37     12     2.0  2.188380e+06\n",
       "38     12     2.5  2.360000e+06\n",
       "39     12     3.0  2.192500e+06\n",
       "40     12     3.5  3.300000e+06\n",
       "41     13     1.0  3.070000e+06\n",
       "42     13     2.0  3.590000e+06\n",
       "43     13     2.5  4.460000e+06"
      ]
     },
     "execution_count": 66,
     "metadata": {},
     "output_type": "execute_result"
    }
   ],
   "source": [
    "grouping_df=df.groupby(['grade','floors'],as_index=False)['price'].mean()\n",
    "grouping_df"
   ]
  },
  {
   "cell_type": "markdown",
   "metadata": {},
   "source": [
    "<font color='green'>Generally, home prices increase for higher combinations of grades and floors.</font>"
   ]
  },
  {
   "cell_type": "code",
   "execution_count": 67,
   "metadata": {},
   "outputs": [
    {
     "data": {
      "text/plain": [
       "['price',\n",
       " 'bedrooms',\n",
       " 'bathrooms',\n",
       " 'sqft_lot',\n",
       " 'floors',\n",
       " 'waterfront',\n",
       " 'view',\n",
       " 'condition',\n",
       " 'grade',\n",
       " 'sqft_above',\n",
       " 'sqft_basement',\n",
       " 'post_war_indicator',\n",
       " 'renovated_indicator']"
      ]
     },
     "execution_count": 67,
     "metadata": {},
     "output_type": "execute_result"
    }
   ],
   "source": [
    "list(df.columns)"
   ]
  },
  {
   "cell_type": "markdown",
   "metadata": {},
   "source": [
    "<font color='green'>Let's run an initial regression on this dataset.</font>"
   ]
  },
  {
   "cell_type": "code",
   "execution_count": 68,
   "metadata": {},
   "outputs": [
    {
     "data": {
      "text/plain": [
       "['bedrooms',\n",
       " 'bathrooms',\n",
       " 'sqft_lot',\n",
       " 'floors',\n",
       " 'waterfront',\n",
       " 'view',\n",
       " 'condition',\n",
       " 'grade',\n",
       " 'sqft_above',\n",
       " 'sqft_basement',\n",
       " 'post_war_indicator',\n",
       " 'renovated_indicator']"
      ]
     },
     "execution_count": 68,
     "metadata": {},
     "output_type": "execute_result"
    }
   ],
   "source": [
    "independent_vbles=list(df.columns)\n",
    "independent_vbles.remove('price')\n",
    "independent_vbles"
   ]
  },
  {
   "cell_type": "code",
   "execution_count": 69,
   "metadata": {},
   "outputs": [
    {
     "name": "stdout",
     "output_type": "stream",
     "text": [
      "                            OLS Regression Results                            \n",
      "==============================================================================\n",
      "Dep. Variable:                  price   R-squared:                       0.637\n",
      "Model:                            OLS   Adj. R-squared:                  0.637\n",
      "Method:                 Least Squares   F-statistic:                     3158.\n",
      "Date:                Thu, 25 Jul 2019   Prob (F-statistic):               0.00\n",
      "Time:                        17:30:01   Log-Likelihood:            -2.9644e+05\n",
      "No. Observations:               21597   AIC:                         5.929e+05\n",
      "Df Residuals:                   21584   BIC:                         5.930e+05\n",
      "Df Model:                          12                                         \n",
      "Covariance Type:            nonrobust                                         \n",
      "=======================================================================================\n",
      "                          coef    std err          t      P>|t|      [0.025      0.975]\n",
      "---------------------------------------------------------------------------------------\n",
      "Intercept           -5.854e+05   1.71e+04    -34.147      0.000   -6.19e+05   -5.52e+05\n",
      "bedrooms             -3.48e+04   2168.569    -16.047      0.000    -3.9e+04   -3.05e+04\n",
      "bathrooms            3654.5724   3295.544      1.109      0.267   -2804.937    1.01e+04\n",
      "sqft_lot               -0.2749      0.037     -7.332      0.000      -0.348      -0.201\n",
      "floors              -2.167e+04   3747.281     -5.784      0.000    -2.9e+04   -1.43e+04\n",
      "waterfront           6.132e+05   1.99e+04     30.798      0.000    5.74e+05    6.52e+05\n",
      "view                 5.483e+04   2272.930     24.124      0.000    5.04e+04    5.93e+04\n",
      "condition            4.205e+04   2471.770     17.013      0.000    3.72e+04    4.69e+04\n",
      "grade                1.143e+05   2199.136     51.986      0.000     1.1e+05    1.19e+05\n",
      "sqft_above            183.2569      3.590     51.051      0.000     176.221     190.293\n",
      "sqft_basement         194.5414      4.658     41.766      0.000     185.412     203.671\n",
      "post_war_indicator  -1.773e+05   4534.926    -39.092      0.000   -1.86e+05   -1.68e+05\n",
      "renovated_indicator  1.504e+05   1.16e+04     12.919      0.000    1.28e+05    1.73e+05\n",
      "==============================================================================\n",
      "Omnibus:                    16064.449   Durbin-Watson:                   1.977\n",
      "Prob(Omnibus):                  0.000   Jarque-Bera (JB):          1071139.834\n",
      "Skew:                           2.985   Prob(JB):                         0.00\n",
      "Kurtosis:                      36.981   Cond. No.                     5.84e+05\n",
      "==============================================================================\n",
      "\n",
      "Warnings:\n",
      "[1] Standard Errors assume that the covariance matrix of the errors is correctly specified.\n",
      "[2] The condition number is large, 5.84e+05. This might indicate that there are\n",
      "strong multicollinearity or other numerical problems.\n"
     ]
    }
   ],
   "source": [
    "from statsmodels.formula.api import ols\n",
    "dependent_vble = 'price'\n",
    "#independent_vbles list already defined above\n",
    "predictors = '+'.join(independent_vbles)\n",
    "formula = dependent_vble + \"~\" + predictors\n",
    "model = ols(formula=formula,data=df).fit()\n",
    "print(model.summary())"
   ]
  },
  {
   "cell_type": "markdown",
   "metadata": {},
   "source": [
    "<font color='green'>Let's clean up the variables further, because as it currently stands, our model is unintuitive. For instance, the number of bedrooms and floors are negatively correlated with house prices in our multiple regression model. For our next iteration, we will scale/normalize our variables, create dummy variables for categorical variables, and deal with potential multicollinearity further. </font>"
   ]
  },
  {
   "cell_type": "markdown",
   "metadata": {},
   "source": [
    "<font color='green'>Let's analyze our variables to see which are categorical and need to be made into dummy variables. </font>"
   ]
  },
  {
   "cell_type": "code",
   "execution_count": 70,
   "metadata": {},
   "outputs": [
    {
     "data": {
      "image/png": "[encoded data removed]",
      "text/plain": [
       "<Figure size 216x216 with 1 Axes>"
      ]
     },
     "metadata": {
      "needs_background": "light"
     },
     "output_type": "display_data"
    },
    {
     "data": {
      "image/png": "[encoded data removed]",
      "text/plain": [
       "<Figure size 216x216 with 1 Axes>"
      ]
     },
     "metadata": {
      "needs_background": "light"
     },
     "output_type": "display_data"
    },
    {
     "data": {
      "image/png": "[encoded data removed]",
      "text/plain": [
       "<Figure size 216x216 with 1 Axes>"
      ]
     },
     "metadata": {
      "needs_background": "light"
     },
     "output_type": "display_data"
    },
    {
     "data": {
      "image/png": "[encoded data removed]",
      "text/plain": [
       "<Figure size 216x216 with 1 Axes>"
      ]
     },
     "metadata": {
      "needs_background": "light"
     },
     "output_type": "display_data"
    },
    {
     "data": {
      "image/png": "[encoded data removed]",
      "text/plain": [
       "<Figure size 216x216 with 1 Axes>"
      ]
     },
     "metadata": {
      "needs_background": "light"
     },
     "output_type": "display_data"
    },
    {
     "data": {
      "image/png": "[encoded data removed]",
      "text/plain": [
       "<Figure size 216x216 with 1 Axes>"
      ]
     },
     "metadata": {
      "needs_background": "light"
     },
     "output_type": "display_data"
    },
    {
     "data": {
      "image/png": "[encoded data removed]",
      "text/plain": [
       "<Figure size 216x216 with 1 Axes>"
      ]
     },
     "metadata": {
      "needs_background": "light"
     },
     "output_type": "display_data"
    },
    {
     "data": {
      "image/png": "[encoded data removed]",
      "text/plain": [
       "<Figure size 216x216 with 1 Axes>"
      ]
     },
     "metadata": {
      "needs_background": "light"
     },
     "output_type": "display_data"
    },
    {
     "data": {
      "image/png": "[encoded data removed]",
      "text/plain": [
       "<Figure size 216x216 with 1 Axes>"
      ]
     },
     "metadata": {
      "needs_background": "light"
     },
     "output_type": "display_data"
    },
    {
     "data": {
      "image/png": "[encoded data removed]",
      "text/plain": [
       "<Figure size 216x216 with 1 Axes>"
      ]
     },
     "metadata": {
      "needs_background": "light"
     },
     "output_type": "display_data"
    },
    {
     "data": {
      "image/png": "[encoded data removed]",
      "text/plain": [
       "<Figure size 216x216 with 1 Axes>"
      ]
     },
     "metadata": {
      "needs_background": "light"
     },
     "output_type": "display_data"
    },
    {
     "data": {
      "image/png": "[encoded data removed]",
      "text/plain": [
       "<Figure size 216x216 with 1 Axes>"
      ]
     },
     "metadata": {
      "needs_background": "light"
     },
     "output_type": "display_data"
    },
    {
     "data": {
      "image/png": "[encoded data removed]",
      "text/plain": [
       "<Figure size 216x216 with 1 Axes>"
      ]
     },
     "metadata": {
      "needs_background": "light"
     },
     "output_type": "display_data"
    }
   ],
   "source": [
    "for element in df.columns:\n",
    "    df.plot.scatter(element,'price',figsize=(3,3))\n",
    "    plt.title(element)"
   ]
  },
  {
   "cell_type": "markdown",
   "metadata": {},
   "source": [
    "<font color='green'>As we can see, \"bedrooms,\" \"bathrooms,\" \"floors,\" \"waterfront,\" \"view,\" \"condition,\" and \"grade\" are categorical and need to be addressed.</font>"
   ]
  },
  {
   "cell_type": "code",
   "execution_count": 71,
   "metadata": {},
   "outputs": [
    {
     "data": {
      "text/plain": [
       "Index(['price', 'bedrooms', 'bathrooms', 'sqft_lot', 'floors', 'waterfront',\n",
       "       'view', 'condition', 'grade', 'sqft_above', 'sqft_basement',\n",
       "       'post_war_indicator', 'renovated_indicator'],\n",
       "      dtype='object')"
      ]
     },
     "execution_count": 71,
     "metadata": {},
     "output_type": "execute_result"
    }
   ],
   "source": [
    "df.columns"
   ]
  },
  {
   "cell_type": "code",
   "execution_count": 72,
   "metadata": {},
   "outputs": [
    {
     "data": {
      "text/html": [
       "<div>\n",
       "<style scoped>\n",
       "    .dataframe tbody tr th:only-of-type {\n",
       "        vertical-align: middle;\n",
       "    }\n",
       "\n",
       "    .dataframe tbody tr th {\n",
       "        vertical-align: top;\n",
       "    }\n",
       "\n",
       "    .dataframe thead th {\n",
       "        text-align: right;\n",
       "    }\n",
       "</style>\n",
       "<table border=\"1\" class=\"dataframe\">\n",
       "  <thead>\n",
       "    <tr style=\"text-align: right;\">\n",
       "      <th></th>\n",
       "      <th>price</th>\n",
       "      <th>sqft_lot</th>\n",
       "      <th>sqft_above</th>\n",
       "      <th>sqft_basement</th>\n",
       "      <th>post_war_indicator</th>\n",
       "      <th>renovated_indicator</th>\n",
       "      <th>bed_2</th>\n",
       "      <th>bed_3</th>\n",
       "      <th>bed_4</th>\n",
       "      <th>bed_5</th>\n",
       "      <th>...</th>\n",
       "      <th>grade_4</th>\n",
       "      <th>grade_5</th>\n",
       "      <th>grade_6</th>\n",
       "      <th>grade_7</th>\n",
       "      <th>grade_8</th>\n",
       "      <th>grade_9</th>\n",
       "      <th>grade_10</th>\n",
       "      <th>grade_11</th>\n",
       "      <th>grade_12</th>\n",
       "      <th>grade_13</th>\n",
       "    </tr>\n",
       "    <tr>\n",
       "      <th>id</th>\n",
       "      <th></th>\n",
       "      <th></th>\n",
       "      <th></th>\n",
       "      <th></th>\n",
       "      <th></th>\n",
       "      <th></th>\n",
       "      <th></th>\n",
       "      <th></th>\n",
       "      <th></th>\n",
       "      <th></th>\n",
       "      <th></th>\n",
       "      <th></th>\n",
       "      <th></th>\n",
       "      <th></th>\n",
       "      <th></th>\n",
       "      <th></th>\n",
       "      <th></th>\n",
       "      <th></th>\n",
       "      <th></th>\n",
       "      <th></th>\n",
       "      <th></th>\n",
       "    </tr>\n",
       "  </thead>\n",
       "  <tbody>\n",
       "    <tr>\n",
       "      <th>7129300520</th>\n",
       "      <td>221900.0</td>\n",
       "      <td>5650</td>\n",
       "      <td>1180</td>\n",
       "      <td>0</td>\n",
       "      <td>1</td>\n",
       "      <td>0</td>\n",
       "      <td>0</td>\n",
       "      <td>1</td>\n",
       "      <td>0</td>\n",
       "      <td>0</td>\n",
       "      <td>...</td>\n",
       "      <td>0</td>\n",
       "      <td>0</td>\n",
       "      <td>0</td>\n",
       "      <td>1</td>\n",
       "      <td>0</td>\n",
       "      <td>0</td>\n",
       "      <td>0</td>\n",
       "      <td>0</td>\n",
       "      <td>0</td>\n",
       "      <td>0</td>\n",
       "    </tr>\n",
       "    <tr>\n",
       "      <th>6414100192</th>\n",
       "      <td>538000.0</td>\n",
       "      <td>7242</td>\n",
       "      <td>2170</td>\n",
       "      <td>400</td>\n",
       "      <td>1</td>\n",
       "      <td>0</td>\n",
       "      <td>0</td>\n",
       "      <td>1</td>\n",
       "      <td>0</td>\n",
       "      <td>0</td>\n",
       "      <td>...</td>\n",
       "      <td>0</td>\n",
       "      <td>0</td>\n",
       "      <td>0</td>\n",
       "      <td>1</td>\n",
       "      <td>0</td>\n",
       "      <td>0</td>\n",
       "      <td>0</td>\n",
       "      <td>0</td>\n",
       "      <td>0</td>\n",
       "      <td>0</td>\n",
       "    </tr>\n",
       "  </tbody>\n",
       "</table>\n",
       "<p>2 rows × 56 columns</p>\n",
       "</div>"
      ],
      "text/plain": [
       "               price  sqft_lot  sqft_above  sqft_basement  post_war_indicator  \\\n",
       "id                                                                              \n",
       "7129300520  221900.0      5650        1180              0                   1   \n",
       "6414100192  538000.0      7242        2170            400                   1   \n",
       "\n",
       "            renovated_indicator  bed_2  bed_3  bed_4  bed_5  ...  grade_4  \\\n",
       "id                                                           ...            \n",
       "7129300520                    0      0      1      0      0  ...        0   \n",
       "6414100192                    0      0      1      0      0  ...        0   \n",
       "\n",
       "            grade_5  grade_6  grade_7  grade_8  grade_9  grade_10  grade_11  \\\n",
       "id                                                                            \n",
       "7129300520        0        0        1        0        0         0         0   \n",
       "6414100192        0        0        1        0        0         0         0   \n",
       "\n",
       "            grade_12  grade_13  \n",
       "id                              \n",
       "7129300520         0         0  \n",
       "6414100192         0         0  \n",
       "\n",
       "[2 rows x 56 columns]"
      ]
     },
     "execution_count": 72,
     "metadata": {},
     "output_type": "execute_result"
    }
   ],
   "source": [
    "bed_dummies = pd.get_dummies(df['bedrooms'],prefix='bed')\n",
    "bath_dummies = pd.get_dummies(df['bathrooms'],prefix='bath')\n",
    "floors_dummies = pd.get_dummies(df['floors'],prefix='floors')\n",
    "water_dummies = pd.get_dummies(df['waterfront'],prefix='water')\n",
    "view_dummies = pd.get_dummies(df['view'],prefix='view')\n",
    "cond_dummies = pd.get_dummies(df['condition'],prefix='cond')\n",
    "grade_dummies = pd.get_dummies(df['grade'],prefix='grade')\n",
    "df = pd.concat([df,bed_dummies,bath_dummies,floors_dummies,water_dummies,view_dummies,\n",
    "               cond_dummies,grade_dummies],axis=1)\n",
    "df.drop(['bedrooms','bathrooms','floors','waterfront','view','condition','grade'],axis=1,inplace=True)\n",
    "df.drop(['bed_1','bath_0.5','floors_1.0','view_0.0','cond_1','grade_3'],axis=1,inplace=True) \n",
    "#drop to avoid multicollinearity\n",
    "df.head(2)"
   ]
  },
  {
   "cell_type": "code",
   "execution_count": 73,
   "metadata": {},
   "outputs": [
    {
     "data": {
      "text/plain": [
       "Index(['price', 'sqft_lot', 'sqft_above', 'sqft_basement',\n",
       "       'post_war_indicator', 'renovated_indicator', 'bed_2', 'bed_3', 'bed_4',\n",
       "       'bed_5', 'bed_6', 'bed_7', 'bed_8', 'bed_9', 'bed_10', 'bed_11',\n",
       "       'bath_1.0', 'bath_1.5', 'bath_2.0', 'bath_2.5', 'bath_3.0', 'bath_3.5',\n",
       "       'bath_4.0', 'bath_4.5', 'bath_5.0', 'bath_5.5', 'bath_6.0', 'bath_6.5',\n",
       "       'bath_7.0', 'bath_7.5', 'bath_8.0', 'floors_1.5', 'floors_2.0',\n",
       "       'floors_2.5', 'floors_3.0', 'floors_3.5', 'water_0.0', 'water_1.0',\n",
       "       'view_1.0', 'view_2.0', 'view_3.0', 'view_4.0', 'cond_2', 'cond_3',\n",
       "       'cond_4', 'cond_5', 'grade_4', 'grade_5', 'grade_6', 'grade_7',\n",
       "       'grade_8', 'grade_9', 'grade_10', 'grade_11', 'grade_12', 'grade_13'],\n",
       "      dtype='object')"
      ]
     },
     "execution_count": 73,
     "metadata": {},
     "output_type": "execute_result"
    }
   ],
   "source": [
    "df.columns"
   ]
  },
  {
   "cell_type": "code",
   "execution_count": 74,
   "metadata": {},
   "outputs": [
    {
     "data": {
      "text/plain": [
       "(21597, 56)"
      ]
     },
     "execution_count": 74,
     "metadata": {},
     "output_type": "execute_result"
    }
   ],
   "source": [
    "np.shape(df)"
   ]
  },
  {
   "cell_type": "markdown",
   "metadata": {},
   "source": [
    "<font color='green'>Creating dummy variables has resulted in 56 columns for our regression. With this more granular segmentation, it should be easier to interpret the results.</font>"
   ]
  },
  {
   "cell_type": "markdown",
   "metadata": {},
   "source": [
    "<font color='green'>Let's perform standard normalization feature scaling so that the non-categorical variables are on the same scale.  </font>"
   ]
  },
  {
   "cell_type": "code",
   "execution_count": 75,
   "metadata": {},
   "outputs": [
    {
     "data": {
      "text/plain": [
       "count    2.159700e+04\n",
       "mean    -5.461668e-17\n",
       "std      1.000023e+00\n",
       "min     -3.520603e-01\n",
       "25%     -2.429124e-01\n",
       "50%     -1.806594e-01\n",
       "75%     -1.065982e-01\n",
       "max      3.951203e+01\n",
       "Name: sqft_lot, dtype: float64"
      ]
     },
     "execution_count": 75,
     "metadata": {},
     "output_type": "execute_result"
    }
   ],
   "source": [
    "sqftlot= df['sqft_lot']\n",
    "df_scaled = pd.DataFrame([])\n",
    "df_scaled['sqft_lot'] = (sqftlot-np.mean(sqftlot))/np.sqrt(np.var(sqftlot))\n",
    "df['sqft_lot'] = df_scaled['sqft_lot']\n",
    "df['sqft_lot'].describe()"
   ]
  },
  {
   "cell_type": "code",
   "execution_count": 76,
   "metadata": {},
   "outputs": [
    {
     "data": {
      "text/plain": [
       "count    2.159700e+04\n",
       "mean     1.042932e-16\n",
       "std      1.000023e+00\n",
       "min     -1.713818e+00\n",
       "25%     -7.231696e-01\n",
       "50%     -2.761697e-01\n",
       "75%      5.091005e-01\n",
       "max      9.207478e+00\n",
       "Name: sqft_above, dtype: float64"
      ]
     },
     "execution_count": 76,
     "metadata": {},
     "output_type": "execute_result"
    }
   ],
   "source": [
    "sqftabove= df['sqft_above']\n",
    "df_scaled['sqft_above'] = (sqftabove-np.mean(sqftabove))/np.sqrt(np.var(sqftabove))\n",
    "df['sqft_above'] = df_scaled['sqft_above']\n",
    "df['sqft_above'].describe()"
   ]
  },
  {
   "cell_type": "code",
   "execution_count": 77,
   "metadata": {},
   "outputs": [
    {
     "data": {
      "text/plain": [
       "count    21597.000000\n",
       "mean         0.060524\n",
       "std          0.091840\n",
       "min          0.000000\n",
       "25%          0.000000\n",
       "50%          0.000000\n",
       "75%          0.116183\n",
       "max          1.000000\n",
       "Name: sqft_basement, dtype: float64"
      ]
     },
     "execution_count": 77,
     "metadata": {},
     "output_type": "execute_result"
    }
   ],
   "source": [
    "#Perform min-max scaling instead of standard normalization, to show both types\n",
    "sqftbasement= df['sqft_basement']\n",
    "df_scaled['sqft_basement'] = (sqftbasement-min(sqftbasement))/(max(sqftbasement)-min(sqftbasement))\n",
    "df['sqft_basement'] = df_scaled['sqft_basement']\n",
    "df['sqft_basement'].describe()"
   ]
  },
  {
   "cell_type": "markdown",
   "metadata": {},
   "source": [
    "<font color='green'>The regression model (via statsmodels) is sensitive to _'s and .'s for column variables, so we'll take care of the column formatting.</font>"
   ]
  },
  {
   "cell_type": "code",
   "execution_count": 78,
   "metadata": {},
   "outputs": [],
   "source": [
    "df.columns = [i.replace(\"_\",\"\") for i in df.columns]\n",
    "df.columns = [i.replace(\".\",\"p\") for i in df.columns]"
   ]
  },
  {
   "cell_type": "code",
   "execution_count": 79,
   "metadata": {},
   "outputs": [
    {
     "data": {
      "text/plain": [
       "Index(['price', 'sqftlot', 'sqftabove', 'sqftbasement', 'postwarindicator',\n",
       "       'renovatedindicator', 'bed2', 'bed3', 'bed4', 'bed5', 'bed6', 'bed7',\n",
       "       'bed8', 'bed9', 'bed10', 'bed11', 'bath1p0', 'bath1p5', 'bath2p0',\n",
       "       'bath2p5', 'bath3p0', 'bath3p5', 'bath4p0', 'bath4p5', 'bath5p0',\n",
       "       'bath5p5', 'bath6p0', 'bath6p5', 'bath7p0', 'bath7p5', 'bath8p0',\n",
       "       'floors1p5', 'floors2p0', 'floors2p5', 'floors3p0', 'floors3p5',\n",
       "       'water0p0', 'water1p0', 'view1p0', 'view2p0', 'view3p0', 'view4p0',\n",
       "       'cond2', 'cond3', 'cond4', 'cond5', 'grade4', 'grade5', 'grade6',\n",
       "       'grade7', 'grade8', 'grade9', 'grade10', 'grade11', 'grade12',\n",
       "       'grade13'],\n",
       "      dtype='object')"
      ]
     },
     "execution_count": 79,
     "metadata": {},
     "output_type": "execute_result"
    }
   ],
   "source": [
    "df.columns"
   ]
  },
  {
   "cell_type": "code",
   "execution_count": 80,
   "metadata": {},
   "outputs": [
    {
     "name": "stdout",
     "output_type": "stream",
     "text": [
      "                            OLS Regression Results                            \n",
      "==============================================================================\n",
      "Dep. Variable:                  price   R-squared:                       0.686\n",
      "Model:                            OLS   Adj. R-squared:                  0.685\n",
      "Method:                 Least Squares   F-statistic:                     870.4\n",
      "Date:                Thu, 25 Jul 2019   Prob (F-statistic):               0.00\n",
      "Time:                        17:30:06   Log-Likelihood:            -2.9489e+05\n",
      "No. Observations:               21597   AIC:                         5.899e+05\n",
      "Df Residuals:                   21542   BIC:                         5.903e+05\n",
      "Df Model:                          54                                         \n",
      "Covariance Type:            nonrobust                                         \n",
      "======================================================================================\n",
      "                         coef    std err          t      P>|t|      [0.025      0.975]\n",
      "--------------------------------------------------------------------------------------\n",
      "Intercept          -1.233e+17   3.84e+17     -0.321      0.748   -8.76e+17    6.29e+17\n",
      "sqftlot            -1.188e+04   1467.186     -8.098      0.000   -1.48e+04   -9005.733\n",
      "sqftabove           1.117e+05   3063.606     36.455      0.000    1.06e+05    1.18e+05\n",
      "sqftbasement        7.714e+05   2.13e+04     36.159      0.000     7.3e+05    8.13e+05\n",
      "postwarindicator   -1.407e+05   4770.770    -29.492      0.000    -1.5e+05   -1.31e+05\n",
      "renovatedindicator   1.62e+05   1.09e+04     14.867      0.000    1.41e+05    1.83e+05\n",
      "bed2                2.109e+04   1.57e+04      1.347      0.178   -9597.427    5.18e+04\n",
      "bed3               -1.159e+04   1.57e+04     -0.738      0.460   -4.23e+04    1.92e+04\n",
      "bed4                -3.06e+04    1.6e+04     -1.908      0.056    -6.2e+04     830.386\n",
      "bed5               -2.656e+04   1.69e+04     -1.572      0.116   -5.97e+04    6560.898\n",
      "bed6               -6.726e+04   2.06e+04     -3.261      0.001   -1.08e+05   -2.68e+04\n",
      "bed7               -1.792e+05   3.79e+04     -4.725      0.000   -2.54e+05   -1.05e+05\n",
      "bed8                8.918e+04   6.02e+04      1.482      0.138   -2.88e+04    2.07e+05\n",
      "bed9               -1.153e+05   9.44e+04     -1.222      0.222      -3e+05    6.97e+04\n",
      "bed10              -1.338e+05   1.21e+05     -1.109      0.267    -3.7e+05    1.03e+05\n",
      "bed11               -1.71e+05   2.07e+05     -0.826      0.409   -5.77e+05    2.35e+05\n",
      "bath1p0             7.246e+04   1.03e+05      0.702      0.483    -1.3e+05    2.75e+05\n",
      "bath1p5             6.067e+04   1.03e+05      0.587      0.557   -1.42e+05    2.63e+05\n",
      "bath2p0             5.541e+04   1.03e+05      0.536      0.592   -1.47e+05    2.58e+05\n",
      "bath2p5             1.883e+04   1.03e+05      0.182      0.855   -1.84e+05    2.21e+05\n",
      "bath3p0             6.452e+04   1.03e+05      0.624      0.533   -1.38e+05    2.67e+05\n",
      "bath3p5             6.576e+04   1.04e+05      0.634      0.526   -1.37e+05    2.69e+05\n",
      "bath4p0             1.945e+05   1.04e+05      1.870      0.062   -9406.235    3.98e+05\n",
      "bath4p5             1.821e+05   1.06e+05      1.723      0.085    -2.5e+04    3.89e+05\n",
      "bath5p0             4.176e+05   1.07e+05      3.890      0.000    2.07e+05    6.28e+05\n",
      "bath5p5              5.77e+05   1.24e+05      4.670      0.000    3.35e+05    8.19e+05\n",
      "bath6p0             7.353e+05   1.21e+05      6.065      0.000    4.98e+05    9.73e+05\n",
      "bath6p5            -6.437e+04    1.8e+05     -0.358      0.720   -4.16e+05    2.88e+05\n",
      "bath7p0             1.809e+05   1.81e+05      0.999      0.318   -1.74e+05    5.36e+05\n",
      "bath7p5            -4.624e+04   2.49e+05     -0.186      0.853   -5.34e+05    4.41e+05\n",
      "bath8p0             2.136e+06   1.66e+05     12.856      0.000    1.81e+06    2.46e+06\n",
      "floors1p5           1.177e+04   5852.100      2.012      0.044     301.458    2.32e+04\n",
      "floors2p0          -7545.7274   4548.993     -1.659      0.097   -1.65e+04    1370.636\n",
      "floors2p5            1.13e+05    1.7e+04      6.660      0.000    7.98e+04    1.46e+05\n",
      "floors3p0           6.418e+04   9285.615      6.912      0.000     4.6e+04    8.24e+04\n",
      "floors3p5           1.554e+05   7.86e+04      1.977      0.048    1362.264     3.1e+05\n",
      "water0p0            1.233e+17   3.84e+17      0.321      0.748   -6.29e+17    8.76e+17\n",
      "water1p0            1.233e+17   3.84e+17      0.321      0.748   -6.29e+17    8.76e+17\n",
      "view1p0             1.396e+05   1.16e+04     12.068      0.000    1.17e+05    1.62e+05\n",
      "view2p0             7.076e+04   7000.151     10.108      0.000     5.7e+04    8.45e+04\n",
      "view3p0             1.218e+05   9582.785     12.708      0.000    1.03e+05    1.41e+05\n",
      "view4p0             2.552e+05   1.46e+04     17.510      0.000    2.27e+05    2.84e+05\n",
      "cond2               1.799e+04   4.16e+04      0.433      0.665   -6.35e+04    9.95e+04\n",
      "cond3               2.514e+04   3.87e+04      0.650      0.516   -5.07e+04    1.01e+05\n",
      "cond4               6.521e+04   3.87e+04      1.685      0.092   -1.06e+04    1.41e+05\n",
      "cond5               1.218e+05   3.89e+04      3.130      0.002    4.55e+04    1.98e+05\n",
      "grade4              6.187e+04    2.1e+05      0.294      0.769    -3.5e+05    4.74e+05\n",
      "grade5              4.735e+04   2.07e+05      0.229      0.819   -3.59e+05    4.53e+05\n",
      "grade6              1.039e+05   2.07e+05      0.502      0.615   -3.02e+05    5.09e+05\n",
      "grade7              1.889e+05   2.07e+05      0.913      0.361   -2.17e+05    5.94e+05\n",
      "grade8              2.816e+05   2.07e+05      1.361      0.174   -1.24e+05    6.87e+05\n",
      "grade9              4.251e+05   2.07e+05      2.054      0.040    1.93e+04    8.31e+05\n",
      "grade10             5.981e+05   2.07e+05      2.888      0.004    1.92e+05       1e+06\n",
      "grade11             8.286e+05   2.07e+05      3.996      0.000    4.22e+05    1.24e+06\n",
      "grade12             1.216e+06   2.08e+05      5.833      0.000    8.07e+05    1.62e+06\n",
      "grade13             2.011e+06   2.17e+05      9.279      0.000    1.59e+06    2.44e+06\n",
      "==============================================================================\n",
      "Omnibus:                    10593.929   Durbin-Watson:                   1.979\n",
      "Prob(Omnibus):                  0.000   Jarque-Bera (JB):           371703.307\n",
      "Skew:                           1.720   Prob(JB):                         0.00\n",
      "Kurtosis:                      23.031   Cond. No.                     9.80e+14\n",
      "==============================================================================\n",
      "\n",
      "Warnings:\n",
      "[1] Standard Errors assume that the covariance matrix of the errors is correctly specified.\n",
      "[2] The smallest eigenvalue is 9.62e-26. This might indicate that there are\n",
      "strong multicollinearity problems or that the design matrix is singular.\n"
     ]
    }
   ],
   "source": [
    "independent_vbles=list(df.columns)\n",
    "independent_vbles.remove('price')\n",
    "independent_vbles\n",
    "dependent_vble = 'price'\n",
    "#independent_vbles list defined above\n",
    "predictors = '+'.join(independent_vbles)\n",
    "formula = dependent_vble + \"~\" + predictors\n",
    "model = ols(formula=formula,data=df).fit()\n",
    "print(model.summary())"
   ]
  },
  {
   "cell_type": "markdown",
   "metadata": {},
   "source": [
    "<font color='green'>Let's find the regression's R-squared.</font>"
   ]
  },
  {
   "cell_type": "code",
   "execution_count": 81,
   "metadata": {},
   "outputs": [
    {
     "data": {
      "text/plain": [
       "0.6857094656491819"
      ]
     },
     "execution_count": 81,
     "metadata": {},
     "output_type": "execute_result"
    }
   ],
   "source": [
    "model.rsquared"
   ]
  },
  {
   "cell_type": "markdown",
   "metadata": {},
   "source": [
    "<font color='green'>We might be able to do better, but the R-squared is a healthy 69%.</font>"
   ]
  },
  {
   "cell_type": "markdown",
   "metadata": {},
   "source": [
    "<font color='green'>Let's find the p-values to see which variables are statistically significant.</font>"
   ]
  },
  {
   "cell_type": "code",
   "execution_count": 82,
   "metadata": {},
   "outputs": [
    {
     "data": {
      "text/plain": [
       "Intercept              7.479867e-01\n",
       "sqftlot                5.872844e-16\n",
       "sqftabove             2.126216e-282\n",
       "sqftbasement          5.273981e-278\n",
       "postwarindicator      1.926487e-187\n",
       "renovatedindicator     9.554275e-50\n",
       "bed2                   1.779836e-01\n",
       "bed3                   4.602458e-01\n",
       "bed4                   5.636721e-02\n",
       "bed5                   1.160046e-01\n",
       "bed6                   1.111016e-03\n",
       "bed7                   2.318172e-06\n",
       "bed8                   1.383589e-01\n",
       "bed9                   2.216981e-01\n",
       "bed10                  2.674541e-01\n",
       "bed11                  4.087397e-01\n",
       "bath1p0                4.828857e-01\n",
       "bath1p5                5.573862e-01\n",
       "bath2p0                5.917374e-01\n",
       "bath2p5                8.554710e-01\n",
       "bath3p0                5.327161e-01\n",
       "bath3p5                5.259105e-01\n",
       "bath4p0                6.154246e-02\n",
       "bath4p5                8.482182e-02\n",
       "bath5p0                1.003723e-04\n",
       "bath5p5                3.034515e-06\n",
       "bath6p0                1.339421e-09\n",
       "bath6p5                7.200729e-01\n",
       "bath7p0                3.175898e-01\n",
       "bath7p5                8.525727e-01\n",
       "bath8p0                1.097761e-37\n",
       "floors1p5              4.427594e-02\n",
       "floors2p0              9.717695e-02\n",
       "floors2p5              2.795048e-11\n",
       "floors3p0              4.919612e-12\n",
       "floors3p5              4.800882e-02\n",
       "water0p0               7.479867e-01\n",
       "water1p0               7.479867e-01\n",
       "view1p0                2.004500e-33\n",
       "view2p0                5.746758e-24\n",
       "view3p0                7.207251e-37\n",
       "view4p0                3.587986e-68\n",
       "cond2                  6.653484e-01\n",
       "cond3                  5.157877e-01\n",
       "cond4                  9.201589e-02\n",
       "cond5                  1.751252e-03\n",
       "grade4                 7.685664e-01\n",
       "grade5                 8.191650e-01\n",
       "grade6                 6.154331e-01\n",
       "grade7                 3.611608e-01\n",
       "grade8                 1.735841e-01\n",
       "grade9                 4.003228e-02\n",
       "grade10                3.880500e-03\n",
       "grade11                6.463616e-05\n",
       "grade12                5.525649e-09\n",
       "grade13                1.871588e-20\n",
       "dtype: float64"
      ]
     },
     "execution_count": 82,
     "metadata": {},
     "output_type": "execute_result"
    }
   ],
   "source": [
    "model.pvalues"
   ]
  },
  {
   "cell_type": "code",
   "execution_count": 83,
   "metadata": {
    "scrolled": true
   },
   "outputs": [],
   "source": [
    "#for i in model.pvalues:\n",
    "#    if i>.05:\n",
    "#        print(i)\n",
    "#p-values are very high for the \"bathroom\" variables, so we'll remove them"
   ]
  },
  {
   "cell_type": "markdown",
   "metadata": {},
   "source": [
    "<font color='green'>p-Values are very high for the \"bathroom\" variables, so we'll remove them from our model.</font>"
   ]
  },
  {
   "cell_type": "code",
   "execution_count": 84,
   "metadata": {},
   "outputs": [
    {
     "data": {
      "text/plain": [
       "Index(['price', 'sqftlot', 'sqftabove', 'sqftbasement', 'postwarindicator',\n",
       "       'renovatedindicator', 'bed2', 'bed3', 'bed4', 'bed5', 'bed6', 'bed7',\n",
       "       'bed8', 'bed9', 'bed10', 'bed11', 'floors1p5', 'floors2p0', 'floors2p5',\n",
       "       'floors3p0', 'floors3p5', 'water0p0', 'water1p0', 'view1p0', 'view2p0',\n",
       "       'view3p0', 'view4p0', 'cond2', 'cond3', 'cond4', 'cond5', 'grade4',\n",
       "       'grade5', 'grade6', 'grade7', 'grade8', 'grade9', 'grade10', 'grade11',\n",
       "       'grade12', 'grade13'],\n",
       "      dtype='object')"
      ]
     },
     "execution_count": 84,
     "metadata": {},
     "output_type": "execute_result"
    }
   ],
   "source": [
    "df.drop(['bath1p0', 'bath1p5', 'bath2p0',\n",
    "       'bath2p5', 'bath3p0', 'bath3p5', 'bath4p0', 'bath4p5', 'bath5p0',\n",
    "       'bath5p5', 'bath6p0', 'bath6p5', 'bath7p0', 'bath7p5', 'bath8p0'],axis=1,inplace=True)\n",
    "df.columns"
   ]
  },
  {
   "cell_type": "code",
   "execution_count": 85,
   "metadata": {},
   "outputs": [
    {
     "name": "stdout",
     "output_type": "stream",
     "text": [
      "                            OLS Regression Results                            \n",
      "==============================================================================\n",
      "Dep. Variable:                  price   R-squared:                       0.674\n",
      "Model:                            OLS   Adj. R-squared:                  0.673\n",
      "Method:                 Least Squares   F-statistic:                     1172.\n",
      "Date:                Thu, 25 Jul 2019   Prob (F-statistic):               0.00\n",
      "Time:                        17:30:06   Log-Likelihood:            -2.9529e+05\n",
      "No. Observations:               21597   AIC:                         5.907e+05\n",
      "Df Residuals:                   21558   BIC:                         5.910e+05\n",
      "Df Model:                          38                                         \n",
      "Covariance Type:            nonrobust                                         \n",
      "======================================================================================\n",
      "                         coef    std err          t      P>|t|      [0.025      0.975]\n",
      "--------------------------------------------------------------------------------------\n",
      "Intercept          -8.694e+16   3.91e+17     -0.222      0.824   -8.53e+17     6.8e+17\n",
      "sqftabove           1.214e+05   2890.866     41.996      0.000    1.16e+05    1.27e+05\n",
      "sqftbasement        8.296e+05   1.99e+04     41.589      0.000     7.9e+05    8.69e+05\n",
      "postwarindicator    -1.48e+05   4817.851    -30.711      0.000   -1.57e+05   -1.39e+05\n",
      "renovatedindicator  1.668e+05   1.11e+04     15.072      0.000    1.45e+05    1.88e+05\n",
      "bed2                1.879e+04   1.59e+04      1.179      0.238   -1.24e+04       5e+04\n",
      "bed3               -2.523e+04   1.59e+04     -1.587      0.112   -5.64e+04    5925.470\n",
      "bed4               -5.009e+04   1.62e+04     -3.088      0.002   -8.19e+04   -1.83e+04\n",
      "bed5               -3.102e+04   1.71e+04     -1.814      0.070   -6.45e+04    2491.425\n",
      "bed6               -4.054e+04   2.08e+04     -1.947      0.052   -8.14e+04     281.714\n",
      "bed7               -6.576e+04   3.81e+04     -1.725      0.085   -1.41e+05    8982.342\n",
      "bed8                1.683e+05    6.1e+04      2.758      0.006    4.87e+04    2.88e+05\n",
      "bed9               -1.034e+05   8.76e+04     -1.180      0.238   -2.75e+05    6.84e+04\n",
      "bed10              -3.528e+04   1.22e+05     -0.288      0.773   -2.75e+05    2.05e+05\n",
      "bed11              -1.846e+05   2.11e+05     -0.876      0.381   -5.98e+05    2.28e+05\n",
      "floors1p5           8910.7953   5948.751      1.498      0.134   -2749.197    2.06e+04\n",
      "floors2p0           -1.95e+04   4280.444     -4.555      0.000   -2.79e+04   -1.11e+04\n",
      "floors2p5           1.141e+05   1.72e+04      6.632      0.000    8.04e+04    1.48e+05\n",
      "floors3p0           7.046e+04   9231.701      7.632      0.000    5.24e+04    8.86e+04\n",
      "floors3p5           1.347e+05      8e+04      1.685      0.092    -2.2e+04    2.91e+05\n",
      "water0p0            8.694e+16   3.91e+17      0.222      0.824    -6.8e+17    8.53e+17\n",
      "water1p0            8.694e+16   3.91e+17      0.222      0.824    -6.8e+17    8.53e+17\n",
      "view1p0             1.418e+05   1.18e+04     12.053      0.000    1.19e+05    1.65e+05\n",
      "view2p0             6.925e+04   7118.699      9.728      0.000    5.53e+04    8.32e+04\n",
      "view3p0             1.223e+05   9735.372     12.566      0.000    1.03e+05    1.41e+05\n",
      "view4p0             2.681e+05   1.48e+04     18.099      0.000    2.39e+05    2.97e+05\n",
      "cond2               1.689e+04   4.23e+04      0.399      0.690   -6.61e+04    9.99e+04\n",
      "cond3               2.839e+04   3.94e+04      0.721      0.471   -4.88e+04    1.06e+05\n",
      "cond4               6.847e+04   3.94e+04      1.738      0.082   -8758.476    1.46e+05\n",
      "cond5               1.243e+05   3.96e+04      3.136      0.002    4.66e+04    2.02e+05\n",
      "grade4              6.417e+04   2.14e+05      0.300      0.764   -3.56e+05    4.84e+05\n",
      "grade5              4.569e+04   2.11e+05      0.217      0.828   -3.68e+05    4.59e+05\n",
      "grade6              1.048e+05   2.11e+05      0.498      0.619   -3.08e+05    5.18e+05\n",
      "grade7              1.791e+05   2.11e+05      0.850      0.395   -2.34e+05    5.92e+05\n",
      "grade8              2.598e+05   2.11e+05      1.233      0.218   -1.53e+05    6.73e+05\n",
      "grade9              3.976e+05   2.11e+05      1.886      0.059   -1.55e+04    8.11e+05\n",
      "grade10              5.84e+05   2.11e+05      2.770      0.006    1.71e+05    9.97e+05\n",
      "grade11              8.51e+05   2.11e+05      4.030      0.000    4.37e+05    1.26e+06\n",
      "grade12             1.313e+06   2.12e+05      6.186      0.000    8.97e+05    1.73e+06\n",
      "grade13             2.508e+06   2.19e+05     11.435      0.000    2.08e+06    2.94e+06\n",
      "==============================================================================\n",
      "Omnibus:                    12333.257   Durbin-Watson:                   1.977\n",
      "Prob(Omnibus):                  0.000   Jarque-Bera (JB):           426303.430\n",
      "Skew:                           2.159   Prob(JB):                         0.00\n",
      "Kurtosis:                      24.333   Cond. No.                     9.55e+14\n",
      "==============================================================================\n",
      "\n",
      "Warnings:\n",
      "[1] Standard Errors assume that the covariance matrix of the errors is correctly specified.\n",
      "[2] The smallest eigenvalue is 9.61e-26. This might indicate that there are\n",
      "strong multicollinearity problems or that the design matrix is singular.\n"
     ]
    }
   ],
   "source": [
    "df.drop('sqftlot',axis=1,inplace=True)\n",
    "independent_vbles=list(df.columns)\n",
    "independent_vbles.remove('price')\n",
    "independent_vbles\n",
    "dependent_vble = 'price'\n",
    "#independent_vbles list defined above\n",
    "predictors = '+'.join(independent_vbles)\n",
    "formula = dependent_vble + \"~\" + predictors\n",
    "model = ols(formula=formula,data=df).fit()\n",
    "print(model.summary())"
   ]
  },
  {
   "cell_type": "markdown",
   "metadata": {},
   "source": [
    "<font color='green'>p-Values are very high for the \"bedroom\", \"grade\", \"condition\" variables, so we'll remove them from our model.</font>"
   ]
  },
  {
   "cell_type": "code",
   "execution_count": 86,
   "metadata": {},
   "outputs": [],
   "source": [
    "df.drop(['bed2','bed3','bed4','bed5','bed6','bed7','bed8','bed9','bed10','bed11','cond2','cond3',\n",
    "        'cond4','cond5','grade4','grade5','grade6','grade7','grade8','grade9','grade10','grade11',\n",
    "        'grade12','grade13'],axis=1,inplace=True)"
   ]
  },
  {
   "cell_type": "code",
   "execution_count": 87,
   "metadata": {},
   "outputs": [
    {
     "name": "stdout",
     "output_type": "stream",
     "text": [
      "                            OLS Regression Results                            \n",
      "==============================================================================\n",
      "Dep. Variable:                  price   R-squared:                       0.586\n",
      "Model:                            OLS   Adj. R-squared:                  0.585\n",
      "Method:                 Least Squares   F-statistic:                     2179.\n",
      "Date:                Thu, 25 Jul 2019   Prob (F-statistic):               0.00\n",
      "Time:                        17:30:07   Log-Likelihood:            -2.9788e+05\n",
      "No. Observations:               21597   AIC:                         5.958e+05\n",
      "Df Residuals:                   21582   BIC:                         5.959e+05\n",
      "Df Model:                          14                                         \n",
      "Covariance Type:            nonrobust                                         \n",
      "======================================================================================\n",
      "                         coef    std err          t      P>|t|      [0.025      0.975]\n",
      "--------------------------------------------------------------------------------------\n",
      "Intercept           5.742e+05   8795.562     65.286      0.000    5.57e+05    5.91e+05\n",
      "sqftabove            2.33e+05   2104.673    110.725      0.000    2.29e+05    2.37e+05\n",
      "sqftbasement         1.15e+06   1.91e+04     60.285      0.000    1.11e+06    1.19e+06\n",
      "postwarindicator   -1.665e+05   5192.975    -32.065      0.000   -1.77e+05   -1.56e+05\n",
      "renovatedindicator   1.45e+05   1.24e+04     11.736      0.000    1.21e+05    1.69e+05\n",
      "floors1p5          -3.103e+04   6592.977     -4.707      0.000    -4.4e+04   -1.81e+04\n",
      "floors2p0          -3.355e+04   4506.039     -7.446      0.000   -4.24e+04   -2.47e+04\n",
      "floors2p5           1.414e+05   1.93e+04      7.346      0.000    1.04e+05    1.79e+05\n",
      "floors3p0            1.23e+05   9994.186     12.310      0.000    1.03e+05    1.43e+05\n",
      "floors3p5           2.637e+05   8.95e+04      2.948      0.003    8.83e+04    4.39e+05\n",
      "water0p0            2.607e+04   8220.313      3.171      0.002    9955.403    4.22e+04\n",
      "water1p0            5.482e+05    1.6e+04     34.179      0.000    5.17e+05     5.8e+05\n",
      "view1p0             1.649e+05   1.32e+04     12.471      0.000    1.39e+05    1.91e+05\n",
      "view2p0             1.086e+05   7976.209     13.610      0.000    9.29e+04    1.24e+05\n",
      "view3p0              1.83e+05   1.09e+04     16.798      0.000    1.62e+05    2.04e+05\n",
      "view4p0             3.878e+05   1.66e+04     23.417      0.000    3.55e+05     4.2e+05\n",
      "==============================================================================\n",
      "Omnibus:                    13349.470   Durbin-Watson:                   1.977\n",
      "Prob(Omnibus):                  0.000   Jarque-Bera (JB):           501251.423\n",
      "Skew:                           2.402   Prob(JB):                         0.00\n",
      "Kurtosis:                      26.107   Cond. No.                     2.22e+16\n",
      "==============================================================================\n",
      "\n",
      "Warnings:\n",
      "[1] Standard Errors assume that the covariance matrix of the errors is correctly specified.\n",
      "[2] The smallest eigenvalue is 1.28e-28. This might indicate that there are\n",
      "strong multicollinearity problems or that the design matrix is singular.\n"
     ]
    }
   ],
   "source": [
    "independent_vbles=list(df.columns)\n",
    "independent_vbles.remove('price')\n",
    "independent_vbles\n",
    "dependent_vble = 'price'\n",
    "#independent_vbles list defined above\n",
    "predictors = '+'.join(independent_vbles)\n",
    "formula = dependent_vble + \"~\" + predictors\n",
    "model = ols(formula=formula,data=df).fit()\n",
    "print(model.summary())"
   ]
  },
  {
   "cell_type": "markdown",
   "metadata": {},
   "source": [
    "<font color='green'>All p-Values look good, and our model looks statistically significant.</font>"
   ]
  },
  {
   "cell_type": "markdown",
   "metadata": {},
   "source": [
    "<font color='green'>The R-squared of our final model:</font>"
   ]
  },
  {
   "cell_type": "code",
   "execution_count": 88,
   "metadata": {},
   "outputs": [
    {
     "data": {
      "text/plain": [
       "0.5857133200033635"
      ]
     },
     "execution_count": 88,
     "metadata": {},
     "output_type": "execute_result"
    }
   ],
   "source": [
    "model.rsquared"
   ]
  },
  {
   "cell_type": "markdown",
   "metadata": {},
   "source": [
    "<font color='green'>The coefficients of our final model:</font>"
   ]
  },
  {
   "cell_type": "code",
   "execution_count": 89,
   "metadata": {},
   "outputs": [
    {
     "data": {
      "text/plain": [
       "Intercept             5.742269e+05\n",
       "sqftabove             2.330390e+05\n",
       "sqftbasement          1.149532e+06\n",
       "postwarindicator     -1.665136e+05\n",
       "renovatedindicator    1.450246e+05\n",
       "floors1p5            -3.102999e+04\n",
       "floors2p0            -3.355163e+04\n",
       "floors2p5             1.414253e+05\n",
       "floors3p0             1.230331e+05\n",
       "floors3p5             2.637061e+05\n",
       "water0p0              2.606782e+04\n",
       "water1p0              5.481591e+05\n",
       "view1p0               1.649432e+05\n",
       "view2p0               1.085525e+05\n",
       "view3p0               1.830341e+05\n",
       "view4p0               3.877935e+05\n",
       "dtype: float64"
      ]
     },
     "execution_count": 89,
     "metadata": {},
     "output_type": "execute_result"
    }
   ],
   "source": [
    "model.params"
   ]
  },
  {
   "cell_type": "markdown",
   "metadata": {},
   "source": [
    "<font color='green'> Our final model to predict house prices is:\n",
    "    \n",
    "    House Price = 574,226.9 + \n",
    "                  233,039.0 * sqftabove + \n",
    "                  1,149,532.0 * sqftbasement + \n",
    "                  -166,513.6 * postwarindicator + \n",
    "                  145,024.6 * renovatedindicator + \n",
    "                  -31,029.99 * floors1.5 + \n",
    "                  -33,551.63 * floors2.0 + \n",
    "                  141,425.3 * floors2.5 + \n",
    "                  123,033.1 * floors3.0 + \n",
    "                  263,706.1 * floors3.5 + \n",
    "                  26,067.82 * waterfront0.0 + \n",
    "                  548,159.1 * waterfront1.0 + \n",
    "                  164,943.2 * view1.0 + \n",
    "                  108,552.5 * view2.0 + \n",
    "                  183,034.1 * view3.0 + \n",
    "                  387,793.5 * view4.0 \n",
    "</font>"
   ]
  },
  {
   "cell_type": "markdown",
   "metadata": {},
   "source": [
    "<font color='green'>If you want to predict house prices, just plug the variables into the above equation. While there are other variables that you might intuitively think to include, they've been removed due to statistical insignificance or due to being highly correlated with these variables. </font>"
   ]
  },
  {
   "cell_type": "markdown",
   "metadata": {},
   "source": [
    "<font color='green'>Let's understand several coefficients and their impact on the house price. </font>"
   ]
  },
  {
   "cell_type": "markdown",
   "metadata": {},
   "source": [
    "<font color='green'>Variable 1: renovatedindicator </font>"
   ]
  },
  {
   "cell_type": "markdown",
   "metadata": {},
   "source": [
    "<font color='blue'>The model coefficient is 145,024.6. Any home that was renovated in 2000 or later is expected to have a higher price by $145,024.6. Any home that was renovated before 2000 or was not renovated does not get a price boost.</font>"
   ]
  },
  {
   "cell_type": "markdown",
   "metadata": {},
   "source": [
    "<font color='green'>Variable 2: floors3.0 </font>"
   ]
  },
  {
   "cell_type": "markdown",
   "metadata": {},
   "source": [
    "<font color='blue'>This is one of the dummy variables that we created. The model coefficient is 123,033.1. Any home that has 3 floors expected to have a higher price by $123,033.1. Any home that does not have 3 floors does not get this price boost (they will get a different amount/boost instead).</font>"
   ]
  },
  {
   "cell_type": "markdown",
   "metadata": {},
   "source": [
    "<font color='green'>Variable 3: sqftabove </font>"
   ]
  },
  {
   "cell_type": "markdown",
   "metadata": {},
   "source": [
    "<font color='blue'>This is one of the variables that we performed standard normalization feature scaling on. The model coefficient is 223,039.0. \n",
    "    \n",
    "Any home that has square footage (not including basement area) that is one standard deviation above the average home is expected to have a higher price by $223,039.0. \n",
    "\n",
    "Conversely, any home that has square footage (not including basement area) that is one standard deviation below the average home is expected to have a lower price by $223,039.0. </font>"
   ]
  }
 ],
 "metadata": {
  "kernelspec": {
   "display_name": "Python 3",
   "language": "python",
   "name": "python3"
  },
  "language_info": {
   "codemirror_mode": {
    "name": "ipython",
    "version": 3
   },
   "file_extension": ".py",
   "mimetype": "text/x-python",
   "name": "python",
   "nbconvert_exporter": "python",
   "pygments_lexer": "ipython3",
   "version": "3.7.3"
  }
 },
 "nbformat": 4,
 "nbformat_minor": 2
}
